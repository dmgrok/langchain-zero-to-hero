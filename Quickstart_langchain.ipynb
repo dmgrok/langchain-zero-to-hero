{
 "cells": [
  {
   "cell_type": "code",
   "execution_count": 1,
   "metadata": {},
   "outputs": [
    {
     "name": "stdout",
     "output_type": "stream",
     "text": [
      "Defaulting to user installation because normal site-packages is not writeable\n",
      "Requirement already satisfied: python-dotenv==1.0.0 in /Users/a447ah/Library/Python/3.9/lib/python/site-packages (1.0.0)\n",
      "Requirement already satisfied: langchain==0.3.2 in /Users/a447ah/Library/Python/3.9/lib/python/site-packages (0.3.2)\n",
      "Requirement already satisfied: langchain-openai in /Users/a447ah/Library/Python/3.9/lib/python/site-packages (0.2.14)\n",
      "Requirement already satisfied: langchain-community in /Users/a447ah/Library/Python/3.9/lib/python/site-packages (0.3.1)\n",
      "Requirement already satisfied: langgraph==0.2.60 in /Users/a447ah/Library/Python/3.9/lib/python/site-packages (0.2.60)\n",
      "Requirement already satisfied: PyYAML>=5.3 in /Users/a447ah/Library/Python/3.9/lib/python/site-packages (from langchain==0.3.2) (6.0)\n",
      "Requirement already satisfied: SQLAlchemy<3,>=1.4 in /Users/a447ah/Library/Python/3.9/lib/python/site-packages (from langchain==0.3.2) (2.0.17)\n",
      "Requirement already satisfied: aiohttp<4.0.0,>=3.8.3 in /Users/a447ah/Library/Python/3.9/lib/python/site-packages (from langchain==0.3.2) (3.9.5)\n",
      "Requirement already satisfied: async-timeout<5.0.0,>=4.0.0 in /Users/a447ah/Library/Python/3.9/lib/python/site-packages (from langchain==0.3.2) (4.0.2)\n",
      "Requirement already satisfied: langchain-core<0.4.0,>=0.3.8 in /Users/a447ah/Library/Python/3.9/lib/python/site-packages (from langchain==0.3.2) (0.3.28)\n",
      "Requirement already satisfied: langchain-text-splitters<0.4.0,>=0.3.0 in /Users/a447ah/Library/Python/3.9/lib/python/site-packages (from langchain==0.3.2) (0.3.4)\n",
      "Requirement already satisfied: langsmith<0.2.0,>=0.1.17 in /Users/a447ah/Library/Python/3.9/lib/python/site-packages (from langchain==0.3.2) (0.1.147)\n",
      "Requirement already satisfied: numpy<2,>=1 in /Users/a447ah/Library/Python/3.9/lib/python/site-packages (from langchain==0.3.2) (1.25.0)\n",
      "Requirement already satisfied: pydantic<3.0.0,>=2.7.4 in /Users/a447ah/Library/Python/3.9/lib/python/site-packages (from langchain==0.3.2) (2.10.4)\n",
      "Requirement already satisfied: requests<3,>=2 in /Users/a447ah/Library/Python/3.9/lib/python/site-packages (from langchain==0.3.2) (2.31.0)\n",
      "Requirement already satisfied: tenacity!=8.4.0,<9.0.0,>=8.1.0 in /Users/a447ah/Library/Python/3.9/lib/python/site-packages (from langchain==0.3.2) (8.2.3)\n",
      "Requirement already satisfied: langgraph-checkpoint<3.0.0,>=2.0.4 in /Users/a447ah/Library/Python/3.9/lib/python/site-packages (from langgraph==0.2.60) (2.0.9)\n",
      "Requirement already satisfied: langgraph-sdk<0.2.0,>=0.1.42 in /Users/a447ah/Library/Python/3.9/lib/python/site-packages (from langgraph==0.2.60) (0.1.48)\n",
      "Requirement already satisfied: openai<2.0.0,>=1.58.1 in /Users/a447ah/Library/Python/3.9/lib/python/site-packages (from langchain-openai) (1.58.1)\n",
      "Requirement already satisfied: tiktoken<1,>=0.7 in /Users/a447ah/Library/Python/3.9/lib/python/site-packages (from langchain-openai) (0.8.0)\n",
      "Requirement already satisfied: dataclasses-json<0.7,>=0.5.7 in /Users/a447ah/Library/Python/3.9/lib/python/site-packages (from langchain-community) (0.5.9)\n",
      "Requirement already satisfied: pydantic-settings<3.0.0,>=2.4.0 in /Users/a447ah/Library/Python/3.9/lib/python/site-packages (from langchain-community) (2.7.0)\n",
      "Requirement already satisfied: aiosignal>=1.1.2 in /Users/a447ah/Library/Python/3.9/lib/python/site-packages (from aiohttp<4.0.0,>=3.8.3->langchain==0.3.2) (1.3.1)\n",
      "Requirement already satisfied: attrs>=17.3.0 in /Users/a447ah/Library/Python/3.9/lib/python/site-packages (from aiohttp<4.0.0,>=3.8.3->langchain==0.3.2) (23.1.0)\n",
      "Requirement already satisfied: frozenlist>=1.1.1 in /Users/a447ah/Library/Python/3.9/lib/python/site-packages (from aiohttp<4.0.0,>=3.8.3->langchain==0.3.2) (1.3.3)\n",
      "Requirement already satisfied: multidict<7.0,>=4.5 in /Users/a447ah/Library/Python/3.9/lib/python/site-packages (from aiohttp<4.0.0,>=3.8.3->langchain==0.3.2) (6.0.4)\n",
      "Requirement already satisfied: yarl<2.0,>=1.0 in /Users/a447ah/Library/Python/3.9/lib/python/site-packages (from aiohttp<4.0.0,>=3.8.3->langchain==0.3.2) (1.9.2)\n",
      "Requirement already satisfied: marshmallow<4.0.0,>=3.3.0 in /Users/a447ah/Library/Python/3.9/lib/python/site-packages (from dataclasses-json<0.7,>=0.5.7->langchain-community) (3.19.0)\n",
      "Requirement already satisfied: marshmallow-enum<2.0.0,>=1.5.1 in /Users/a447ah/Library/Python/3.9/lib/python/site-packages (from dataclasses-json<0.7,>=0.5.7->langchain-community) (1.5.1)\n",
      "Requirement already satisfied: typing-inspect>=0.4.0 in /Users/a447ah/Library/Python/3.9/lib/python/site-packages (from dataclasses-json<0.7,>=0.5.7->langchain-community) (0.9.0)\n",
      "Requirement already satisfied: jsonpatch<2.0,>=1.33 in /Users/a447ah/Library/Python/3.9/lib/python/site-packages (from langchain-core<0.4.0,>=0.3.8->langchain==0.3.2) (1.33)\n",
      "Requirement already satisfied: packaging<25,>=23.2 in /Users/a447ah/Library/Python/3.9/lib/python/site-packages (from langchain-core<0.4.0,>=0.3.8->langchain==0.3.2) (23.2)\n",
      "Requirement already satisfied: typing-extensions>=4.7 in /Users/a447ah/Library/Python/3.9/lib/python/site-packages (from langchain-core<0.4.0,>=0.3.8->langchain==0.3.2) (4.12.2)\n",
      "Requirement already satisfied: msgpack<2.0.0,>=1.1.0 in /Users/a447ah/Library/Python/3.9/lib/python/site-packages (from langgraph-checkpoint<3.0.0,>=2.0.4->langgraph==0.2.60) (1.1.0)\n",
      "Requirement already satisfied: httpx>=0.25.2 in /Users/a447ah/Library/Python/3.9/lib/python/site-packages (from langgraph-sdk<0.2.0,>=0.1.42->langgraph==0.2.60) (0.25.2)\n",
      "Requirement already satisfied: orjson>=3.10.1 in /Users/a447ah/Library/Python/3.9/lib/python/site-packages (from langgraph-sdk<0.2.0,>=0.1.42->langgraph==0.2.60) (3.10.13)\n",
      "Requirement already satisfied: requests-toolbelt<2.0.0,>=1.0.0 in /Users/a447ah/Library/Python/3.9/lib/python/site-packages (from langsmith<0.2.0,>=0.1.17->langchain==0.3.2) (1.0.0)\n",
      "Requirement already satisfied: anyio<5,>=3.5.0 in /Users/a447ah/Library/Python/3.9/lib/python/site-packages (from openai<2.0.0,>=1.58.1->langchain-openai) (3.7.1)\n",
      "Requirement already satisfied: distro<2,>=1.7.0 in /Users/a447ah/Library/Python/3.9/lib/python/site-packages (from openai<2.0.0,>=1.58.1->langchain-openai) (1.9.0)\n",
      "Requirement already satisfied: jiter<1,>=0.4.0 in /Users/a447ah/Library/Python/3.9/lib/python/site-packages (from openai<2.0.0,>=1.58.1->langchain-openai) (0.8.2)\n",
      "Requirement already satisfied: sniffio in /Users/a447ah/Library/Python/3.9/lib/python/site-packages (from openai<2.0.0,>=1.58.1->langchain-openai) (1.3.0)\n",
      "Requirement already satisfied: tqdm>4 in /Users/a447ah/Library/Python/3.9/lib/python/site-packages (from openai<2.0.0,>=1.58.1->langchain-openai) (4.65.0)\n",
      "Requirement already satisfied: annotated-types>=0.6.0 in /Users/a447ah/Library/Python/3.9/lib/python/site-packages (from pydantic<3.0.0,>=2.7.4->langchain==0.3.2) (0.7.0)\n",
      "Requirement already satisfied: pydantic-core==2.27.2 in /Users/a447ah/Library/Python/3.9/lib/python/site-packages (from pydantic<3.0.0,>=2.7.4->langchain==0.3.2) (2.27.2)\n",
      "Requirement already satisfied: charset-normalizer<4,>=2 in /Users/a447ah/Library/Python/3.9/lib/python/site-packages (from requests<3,>=2->langchain==0.3.2) (3.1.0)\n",
      "Requirement already satisfied: idna<4,>=2.5 in /Users/a447ah/Library/Python/3.9/lib/python/site-packages (from requests<3,>=2->langchain==0.3.2) (3.4)\n",
      "Requirement already satisfied: urllib3<3,>=1.21.1 in /Users/a447ah/Library/Python/3.9/lib/python/site-packages (from requests<3,>=2->langchain==0.3.2) (2.3.0)\n",
      "Requirement already satisfied: certifi>=2017.4.17 in /Users/a447ah/Library/Python/3.9/lib/python/site-packages (from requests<3,>=2->langchain==0.3.2) (2023.5.7)\n",
      "Requirement already satisfied: regex>=2022.1.18 in /Users/a447ah/Library/Python/3.9/lib/python/site-packages (from tiktoken<1,>=0.7->langchain-openai) (2023.10.3)\n",
      "Requirement already satisfied: exceptiongroup in /Users/a447ah/Library/Python/3.9/lib/python/site-packages (from anyio<5,>=3.5.0->openai<2.0.0,>=1.58.1->langchain-openai) (1.2.0)\n",
      "Requirement already satisfied: httpcore==1.* in /Users/a447ah/Library/Python/3.9/lib/python/site-packages (from httpx>=0.25.2->langgraph-sdk<0.2.0,>=0.1.42->langgraph==0.2.60) (1.0.2)\n",
      "Requirement already satisfied: h11<0.15,>=0.13 in /Users/a447ah/Library/Python/3.9/lib/python/site-packages (from httpcore==1.*->httpx>=0.25.2->langgraph-sdk<0.2.0,>=0.1.42->langgraph==0.2.60) (0.14.0)\n",
      "Requirement already satisfied: jsonpointer>=1.9 in /Users/a447ah/Library/Python/3.9/lib/python/site-packages (from jsonpatch<2.0,>=1.33->langchain-core<0.4.0,>=0.3.8->langchain==0.3.2) (2.4)\n",
      "Requirement already satisfied: mypy-extensions>=0.3.0 in /Users/a447ah/Library/Python/3.9/lib/python/site-packages (from typing-inspect>=0.4.0->dataclasses-json<0.7,>=0.5.7->langchain-community) (1.0.0)\n",
      "\n",
      "\u001b[1m[\u001b[0m\u001b[34;49mnotice\u001b[0m\u001b[1;39;49m]\u001b[0m\u001b[39;49m A new release of pip is available: \u001b[0m\u001b[31;49m24.2\u001b[0m\u001b[39;49m -> \u001b[0m\u001b[32;49m25.0.1\u001b[0m\n",
      "\u001b[1m[\u001b[0m\u001b[34;49mnotice\u001b[0m\u001b[1;39;49m]\u001b[0m\u001b[39;49m To update, run: \u001b[0m\u001b[32;49m/Library/Developer/CommandLineTools/usr/bin/python3 -m pip install --upgrade pip\u001b[0m\n"
     ]
    }
   ],
   "source": [
    "!pip install python-dotenv==1.0.0 langchain==0.3.2 langchain-openai langchain-community langgraph==0.2.60"
   ]
  },
  {
   "cell_type": "code",
   "execution_count": 6,
   "metadata": {},
   "outputs": [],
   "source": [
    "# Load environment variables\n",
    "from dotenv import load_dotenv,find_dotenv\n",
    "load_dotenv(find_dotenv())\n",
    "\n",
    "def pretty_print_docs(docs):\n",
    "    print(\n",
    "        f\"\\n{'-' * 100}\\n\".join(\n",
    "            [f\"Document {i+1}:\\n\\n\" + d.page_content for i, d in enumerate(docs)]\n",
    "        )\n",
    "    )\n",
    "\n",
    "def print_stream(stream):\n",
    "    for s in stream:\n",
    "        message = s[\"messages\"][-1]\n",
    "        if isinstance(message, tuple):\n",
    "            print(message)\n",
    "        else:\n",
    "            message.pretty_print()"
   ]
  },
  {
   "cell_type": "code",
   "execution_count": 13,
   "metadata": {},
   "outputs": [
    {
     "name": "stdout",
     "output_type": "stream",
     "text": [
      "==================================\u001b[1m Ai Message \u001b[0m==================================\n",
      "\n",
      "Ciao!\n"
     ]
    }
   ],
   "source": [
    "# Run basic query with OpenAI wrapper\n",
    "\n",
    "from langchain_openai import ChatOpenAI\n",
    "\n",
    "from langchain_core.messages import HumanMessage, SystemMessage\n",
    "\n",
    "messages = [\n",
    "    SystemMessage(\"Translate the following from English into Italian\"),\n",
    "    HumanMessage(\"hi!\"),\n",
    "]\n",
    "\n",
    "llm = ChatOpenAI(model=\"gpt-3.5-turbo\") # cheapest to try out ;)\n",
    "\n",
    "# Simple call to model\n",
    "llm.invoke(messages).pretty_print()\n",
    "\n"
   ]
  },
  {
   "cell_type": "code",
   "execution_count": 14,
   "metadata": {},
   "outputs": [
    {
     "name": "stdout",
     "output_type": "stream",
     "text": [
      "==================================\u001b[1m Ai Message \u001b[0m==================================\n",
      "\n",
      "Sure, here's a joke for you:\n",
      "\n",
      "Why did the scarecrow win an award?\n",
      "Because he was outstanding in his field!\n"
     ]
    }
   ],
   "source": [
    "# or structured\n",
    "# OPENAI message format is compatible as well\n",
    "llm.invoke([\n",
    "    {\n",
    "        \"role\": \"user\",\n",
    "        \"content\": \"Hello, how are you?\",\n",
    "    },\n",
    "    {\n",
    "        \"role\": \"assistant\",\n",
    "        \"content\": \"I'm doing well, thank you for asking.\",\n",
    "    },\n",
    "    {\n",
    "        \"role\": \"user\",\n",
    "        \"content\": \"Can you tell me a joke?\",\n",
    "    }\n",
    "]).pretty_print()"
   ]
  },
  {
   "cell_type": "markdown",
   "metadata": {},
   "source": [
    "# Prompt Template"
   ]
  },
  {
   "cell_type": "code",
   "execution_count": 11,
   "metadata": {},
   "outputs": [],
   "source": [
    "# Import prompt and define PromptTemplate\n",
    "\n",
    "from langchain import PromptTemplate\n",
    "\n",
    "template = \"\"\"\n",
    "I'm Donald Trump, president of the United States. Explain me {concept} in a couple of lines.\n",
    "\"\"\"\n",
    "\n",
    "prompt = PromptTemplate(\n",
    "    input_variables=[\"concept\"],\n",
    "    template=template,\n",
    ")"
   ]
  },
  {
   "cell_type": "code",
   "execution_count": 15,
   "metadata": {},
   "outputs": [
    {
     "name": "stdout",
     "output_type": "stream",
     "text": [
      "==================================\u001b[1m Ai Message \u001b[0m==================================\n",
      "\n",
      "Milk is a nutrient-rich liquid produced by mammals, typically cows, that is consumed by humans for its high calcium content and other essential vitamins and minerals. It is a staple in many diets and is used in a variety of culinary dishes and beverages.\n"
     ]
    }
   ],
   "source": [
    "# Run LLM with PromptTemplate\n",
    "\n",
    "llm(prompt.format(concept=\"milk\")).pretty_print()"
   ]
  },
  {
   "cell_type": "code",
   "execution_count": 19,
   "metadata": {},
   "outputs": [],
   "source": [
    "from langchain.prompts import FewShotPromptTemplate\n",
    "\n",
    "# Define three examples for the 3-shot learning\n",
    "examples = [\n",
    "    {\"email_text\": \"You can't do it!\", \"category\": \"BS\"},\n",
    "    {\"email_text\": \"Let's tax our neighbours\", \"category\": \"Economy\"},\n",
    "    {\"email_text\": \"Hairdresser scheduled to tomorrow\", \"category\": \"Hairstyle\"},\n",
    "]\n",
    "# Create a PromptTemplate for classifying emails\n",
    "prompt_template = PromptTemplate(\n",
    "    input_variables=[\"email_text\", \"category\"],\n",
    "    template=\"Classify the email: {email_text} /n {category}\",\n",
    ")\n",
    "# Create a FewShotPromptTemplate using PromptTemplate and examples\n",
    "few_shot_prompt = FewShotPromptTemplate(\n",
    "    example_prompt=prompt_template,\n",
    "    examples=examples,\n",
    "    suffix=\"Classify the email: {email_text}\",\n",
    "    input_variables=[\"email_text\"],\n",
    ")"
   ]
  },
  {
   "cell_type": "code",
   "execution_count": 20,
   "metadata": {},
   "outputs": [
    {
     "name": "stdout",
     "output_type": "stream",
     "text": [
      "==================================\u001b[1m Ai Message \u001b[0m==================================\n",
      "\n",
      "/n Hairstyle\n"
     ]
    }
   ],
   "source": [
    "formatted_prompt = few_shot_prompt.format(\n",
    "    email_text=\"Hi. I'm rescheduling my stylist\"\n",
    ")\n",
    "\n",
    "llm(formatted_prompt).pretty_print()"
   ]
  },
  {
   "cell_type": "markdown",
   "metadata": {},
   "source": [
    "# Chains"
   ]
  },
  {
   "cell_type": "code",
   "execution_count": 26,
   "metadata": {},
   "outputs": [
    {
     "name": "stdout",
     "output_type": "stream",
     "text": [
      "==================================\u001b[1m Ai Message \u001b[0m==================================\n",
      "\n",
      "Why did Donald Trump want to buy Greenland? Because he heard it was a great place to build a wall to keep out all the icebergs!\n"
     ]
    }
   ],
   "source": [
    "# Import LLMChain and define chain with language model and prompt as arguments.\n",
    "\n",
    "from langchain_core.output_parsers import StrOutputParser\n",
    "from langchain_core.prompts import ChatPromptTemplate\n",
    "\n",
    "joke = ChatPromptTemplate.from_template(\"tell me a joke about {topic}\")\n",
    "\n",
    "chain = prompt | joke | llm\n",
    "\n",
    "explanation = chain.invoke({\"concept\": \"Greenland\"})\n",
    "\n",
    "explanation.pretty_print()"
   ]
  },
  {
   "cell_type": "markdown",
   "metadata": {},
   "source": [
    "## Another example (bit more serious now)"
   ]
  },
  {
   "cell_type": "code",
   "execution_count": 27,
   "metadata": {},
   "outputs": [
    {
     "data": {
      "text/plain": [
       "'Dear valued customers,\\n\\nWe are truly sorry to hear about your recent experiences with our service. Your feedback regarding late delivery and poor packaging is extremely important to us, and we sincerely apologize for any inconvenience this may have caused.\\n\\nWe are actively working to address these issues promptly to ensure that they do not happen again in the future. We understand the importance of timely delivery and proper packaging in providing a positive customer experience, and we are committed to making improvements in these areas.\\n\\nPlease know that your satisfaction is our top priority, and we appreciate your feedback as it helps us to continuously improve our service. If you have any further concerns or feedback, please do not hesitate to reach out to us.\\n\\nThank you for bringing these issues to our attention, and we look forward to serving you better in the future.\\n\\nSincerely,\\n[Your Name]\\nCustomer Service Team'"
      ]
     },
     "execution_count": 27,
     "metadata": {},
     "output_type": "execute_result"
    }
   ],
   "source": [
    "from langchain.prompts import PromptTemplate\n",
    "from langchain.chains import ConversationChain, summarize, question_answering\n",
    "from langchain.schema import StrOutputParser\n",
    "\n",
    "# Template for summarizing customer feedback\n",
    "feedback_summary_prompt = PromptTemplate.from_template(\n",
    "    \"\"\"You are a customer service manager. Given the customer feedback, \n",
    "        it is your job to summarize the main points.\n",
    "Customer Feedback: {feedback}\n",
    "Summary:\"\"\"\n",
    ")\n",
    "\n",
    "# Template for drafting a business email response\n",
    "email_response_prompt = PromptTemplate.from_template(\n",
    "    \"\"\"You are a customer service representative. Given the summary of customer feedback, \n",
    "        it is your job to write a professional email response.\n",
    "Feedback Summary:\n",
    "{summary}\n",
    "Email Response:\"\"\"\n",
    ")\n",
    "\n",
    "feedback_chain = feedback_summary_prompt | llm | StrOutputParser()\n",
    "email_chain = (\n",
    "    {\"summary\": feedback_chain}\n",
    "    | email_response_prompt\n",
    "    | llm\n",
    "    | StrOutputParser()\n",
    ")\n",
    "\n",
    "# Example of invoking the chain with actual customer feedback\n",
    "email_chain.invoke({\"feedback\": \"Disappointed with the late delivery and poor packaging.\"})\n",
    "\n",
    "\n",
    "# Predefined chains: summarization and Q&A\n",
    "# chain = summarize.load_summarize_chain(llm, chain_type=\"stuff\")\n",
    "# chain = question_answering.load_qa_chain(llm, chain_type=\"stuff\")\n",
    "\n"
   ]
  },
  {
   "cell_type": "markdown",
   "metadata": {},
   "source": [
    "# Chunking"
   ]
  },
  {
   "cell_type": "code",
   "execution_count": 29,
   "metadata": {},
   "outputs": [
    {
     "name": "stdout",
     "output_type": "stream",
     "text": [
      "Chunk 1:\n",
      "Imagine an egg as a house for a chicken, right? But unlike real houses, this one is fragile and can\n",
      "\n",
      "Chunk 2:\n",
      "break with just a tiny poke. Inside, you've got a gooey interior that eventually morphs into a\n",
      "\n",
      "Chunk 3:\n",
      "cute, clucking resident. It's like nature's weirdest Airbnb!\n",
      "\n"
     ]
    }
   ],
   "source": [
    "# Import utility for splitting up texts and split up the explanation given above into document chunks\n",
    "\n",
    "from langchain.text_splitter import RecursiveCharacterTextSplitter\n",
    "\n",
    "text_splitter = RecursiveCharacterTextSplitter(separators=[\" \"],\n",
    "    chunk_size = 100,\n",
    "    chunk_overlap  = 0,\n",
    ")\n",
    "explanation =\"Imagine an egg as a house for a chicken, right? But unlike real houses, this one is fragile and can break with just a tiny poke. Inside, you've got a gooey interior that eventually morphs into a cute, clucking resident. It's like nature's weirdest Airbnb!\"\n",
    "outputSplitted = text_splitter.split_text(explanation)\n",
    "\n",
    "# Print the chunks\n",
    "for i, chunk in enumerate(outputSplitted):\n",
    "    print(f\"Chunk {i+1}:\\n{chunk}\\n\")"
   ]
  },
  {
   "cell_type": "markdown",
   "metadata": {},
   "source": [
    "## Indexes"
   ]
  },
  {
   "cell_type": "markdown",
   "metadata": {},
   "source": [
    "### Document loaders"
   ]
  },
  {
   "cell_type": "code",
   "execution_count": 30,
   "metadata": {},
   "outputs": [
    {
     "name": "stderr",
     "output_type": "stream",
     "text": [
      "USER_AGENT environment variable not set, consider setting it to identify your requests.\n"
     ]
    },
    {
     "name": "stdout",
     "output_type": "stream",
     "text": [
      "Defaulting to user installation because normal site-packages is not writeable\n",
      "Requirement already satisfied: bs4 in /Users/a447ah/Library/Python/3.9/lib/python/site-packages (0.0.2)\n",
      "Requirement already satisfied: beautifulsoup4 in /Users/a447ah/Library/Python/3.9/lib/python/site-packages (from bs4) (4.12.3)\n",
      "Requirement already satisfied: soupsieve>1.2 in /Users/a447ah/Library/Python/3.9/lib/python/site-packages (from beautifulsoup4->bs4) (2.6)\n",
      "\n",
      "\u001b[1m[\u001b[0m\u001b[34;49mnotice\u001b[0m\u001b[1;39;49m]\u001b[0m\u001b[39;49m A new release of pip is available: \u001b[0m\u001b[31;49m24.2\u001b[0m\u001b[39;49m -> \u001b[0m\u001b[32;49m25.0.1\u001b[0m\n",
      "\u001b[1m[\u001b[0m\u001b[34;49mnotice\u001b[0m\u001b[1;39;49m]\u001b[0m\u001b[39;49m To update, run: \u001b[0m\u001b[32;49m/Library/Developer/CommandLineTools/usr/bin/python3 -m pip install --upgrade pip\u001b[0m\n",
      "\n",
      "\n",
      "\n",
      "\n",
      "History of mathematics - Wikipedia\n",
      "\n",
      "\n",
      "\n",
      "\n",
      "\n",
      "\n",
      "\n",
      "\n",
      "\n",
      "\n",
      "\n",
      "\n",
      "\n",
      "\n",
      "\n",
      "\n",
      "\n",
      "\n",
      "\n",
      "\n",
      "\n",
      "\n",
      "\n",
      "\n",
      "\n",
      "\n",
      "\n",
      "\n",
      "\n",
      "\n",
      "\n",
      "\n",
      "\n",
      "\n",
      "\n",
      "Jump to content\n",
      "\n",
      "\n",
      "\n",
      "\n",
      "\n",
      "\n",
      "\n",
      "Mai\n",
      "{'source': 'https://en.wikipedia.org/wiki/History_of_mathematics', 'title': 'History of mathematics - Wikipedia', 'language': 'en'}\n"
     ]
    }
   ],
   "source": [
    "from langchain.document_loaders import (\n",
    "    csv_loader,\n",
    "    DirectoryLoader,\n",
    "    WebBaseLoader,\n",
    "    JSONLoader,\n",
    "    UnstructuredPDFLoader,\n",
    ")\n",
    "\n",
    "#loader = DirectoryLoader(\"../\", glob=\"**/*.md\")\n",
    "#loader = csv_loader.CSVLoader(...)\n",
    "#loader = JSONLoader(..., jq_schema=\"\")\n",
    "#loader = UnstructuredPDFLoader(...)\n",
    "\n",
    "# Uses BeautifulSoup to crawl\n",
    "!pip install bs4\n",
    "\n",
    "loader = WebBaseLoader(\n",
    "    web_path = \"https://en.wikipedia.org/wiki/History_of_mathematics\"\n",
    "    # header_template = None,\n",
    "    # verify_ssl = True,\n",
    "    # proxies = None,\n",
    "    # continue_on_failure = False,\n",
    "    # autoset_encoding = True,\n",
    "    # encoding = None,\n",
    "    # web_paths = (),\n",
    "    # requests_per_second = 2,\n",
    "    # default_parser = \"html.parser\",\n",
    "    # requests_kwargs = None,\n",
    "    # raise_for_status = False,\n",
    "    # bs_get_text_kwargs = None,\n",
    "    # bs_kwargs = None,\n",
    "    # session = None,\n",
    "    # show_progress = True,\n",
    "    # trust_env = False,\n",
    ")\n",
    "docs = []\n",
    "for doc in loader.lazy_load():\n",
    "    docs.append(doc)\n",
    "print(docs[0].page_content[:100])\n",
    "print(docs[0].metadata)"
   ]
  },
  {
   "cell_type": "markdown",
   "metadata": {},
   "source": [
    "### Retrievers and Vectorstores"
   ]
  },
  {
   "cell_type": "code",
   "execution_count": 32,
   "metadata": {},
   "outputs": [],
   "source": [
    "from langchain.text_splitter import RecursiveCharacterTextSplitter\n",
    "from langchain.vectorstores import FAISS, Chroma, Pinecone\n",
    "\n",
    "# Split documents into texts so that they can be imported\n",
    "text_splitter = RecursiveCharacterTextSplitter(chunk_size=400, chunk_overlap=50)\n",
    "texts = text_splitter.split_documents(docs)"
   ]
  },
  {
   "cell_type": "markdown",
   "metadata": {},
   "source": [
    "## Embeddings"
   ]
  },
  {
   "cell_type": "code",
   "execution_count": 34,
   "metadata": {},
   "outputs": [],
   "source": [
    "# Now let's connect to the model!\n",
    "from langchain_openai import OpenAIEmbeddings\n",
    "\n",
    "embeddings = OpenAIEmbeddings(model=\"text-embedding-ada-002\")\n",
    "text_embedding = embeddings.embed_query(\"Birthday gifts for mathematics\")"
   ]
  },
  {
   "cell_type": "code",
   "execution_count": 35,
   "metadata": {},
   "outputs": [],
   "source": [
    "# Embed your texts and store them in a vectorstore\n",
    "#db = FAISS.from_texts([\"some_string_abc\", \"some_string_xyz\"], embeddings)\n",
    "db = FAISS.from_documents(texts, embeddings)"
   ]
  },
  {
   "cell_type": "code",
   "execution_count": 36,
   "metadata": {},
   "outputs": [
    {
     "data": {
      "text/plain": [
       "[Document(metadata={'source': 'https://en.wikipedia.org/wiki/History_of_mathematics', 'title': 'History of mathematics - Wikipedia', 'language': 'en'}, page_content=\"Building on earlier work by many predecessors, Isaac Newton discovered the laws of physics that explain Kepler's Laws, and brought together the concepts now known as calculus. Independently, Gottfried Wilhelm Leibniz, developed calculus and much of the calculus notation still in use today. He also refined the binary number system, which is the foundation of nearly all digital (electronic,\"),\n",
       " Document(metadata={'source': 'https://en.wikipedia.org/wiki/History_of_mathematics', 'title': 'History of mathematics - Wikipedia', 'language': 'en'}, page_content='mathematical developments, interacting with new scientific discoveries, were made at an increasing pace that continues through the present day. This includes the groundbreaking work of both Isaac Newton and Gottfried Wilhelm Leibniz in the development of infinitesimal calculus during the course of the 17th century and following discoveries of German mathematicians like Carl Friedrich Gauss and'),\n",
       " Document(metadata={'source': 'https://en.wikipedia.org/wiki/History_of_mathematics', 'title': 'History of mathematics - Wikipedia', 'language': 'en'}, page_content=\"In the 13th century, Nasir al-Din Tusi (Nasireddin) made advances in spherical trigonometry. He also wrote influential work on Euclid's parallel postulate. In the 15th century, Ghiyath al-Kashi computed the value of π to the 16th decimal place. Kashi also had an algorithm for calculating nth roots, which was a special case of the methods given many centuries later by Ruffini and Horner.\"),\n",
       " Document(metadata={'source': 'https://en.wikipedia.org/wiki/History_of_mathematics', 'title': 'History of mathematics - Wikipedia', 'language': 'en'}, page_content='The 14th century saw the development of new mathematical concepts to investigate a wide range of problems.[170] One important contribution was development of mathematics of local motion.')]"
      ]
     },
     "execution_count": 36,
     "metadata": {},
     "output_type": "execute_result"
    }
   ],
   "source": [
    "# Perform similarity search\n",
    "db.similarity_search(\"What is Isaac Newton's contribution in math?\")"
   ]
  },
  {
   "cell_type": "code",
   "execution_count": 37,
   "metadata": {},
   "outputs": [
    {
     "data": {
      "text/plain": [
       "[Document(metadata={'source': 'https://en.wikipedia.org/wiki/History_of_mathematics', 'title': 'History of mathematics - Wikipedia', 'language': 'en'}, page_content=\"Building on earlier work by many predecessors, Isaac Newton discovered the laws of physics that explain Kepler's Laws, and brought together the concepts now known as calculus. Independently, Gottfried Wilhelm Leibniz, developed calculus and much of the calculus notation still in use today. He also refined the binary number system, which is the foundation of nearly all digital (electronic,\"),\n",
       " Document(metadata={'source': 'https://en.wikipedia.org/wiki/History_of_mathematics', 'title': 'History of mathematics - Wikipedia', 'language': 'en'}, page_content='mathematical developments, interacting with new scientific discoveries, were made at an increasing pace that continues through the present day. This includes the groundbreaking work of both Isaac Newton and Gottfried Wilhelm Leibniz in the development of infinitesimal calculus during the course of the 17th century and following discoveries of German mathematicians like Carl Friedrich Gauss and'),\n",
       " Document(metadata={'source': 'https://en.wikipedia.org/wiki/History_of_mathematics', 'title': 'History of mathematics - Wikipedia', 'language': 'en'}, page_content=\"In the 13th century, Nasir al-Din Tusi (Nasireddin) made advances in spherical trigonometry. He also wrote influential work on Euclid's parallel postulate. In the 15th century, Ghiyath al-Kashi computed the value of π to the 16th decimal place. Kashi also had an algorithm for calculating nth roots, which was a special case of the methods given many centuries later by Ruffini and Horner.\"),\n",
       " Document(metadata={'source': 'https://en.wikipedia.org/wiki/History_of_mathematics', 'title': 'History of mathematics - Wikipedia', 'language': 'en'}, page_content='The 14th century saw the development of new mathematical concepts to investigate a wide range of problems.[170] One important contribution was development of mathematics of local motion.')]"
      ]
     },
     "execution_count": 37,
     "metadata": {},
     "output_type": "execute_result"
    }
   ],
   "source": [
    "# Initialize retriever and ask for relevant documents back\n",
    "retriever = db.as_retriever()\n",
    "retriever.invoke(\"What is Isaac Newton's contribution in math?\")"
   ]
  },
  {
   "cell_type": "code",
   "execution_count": 38,
   "metadata": {},
   "outputs": [
    {
     "name": "stdout",
     "output_type": "stream",
     "text": [
      "Document 1:\n",
      "\n",
      "Isaac Newton discovered the laws of physics that explain Kepler's Laws, and brought together the concepts now known as calculus.\n",
      "----------------------------------------------------------------------------------------------------\n",
      "Document 2:\n",
      "\n",
      "Isaac Newton's contribution in math, interacting with new scientific discoveries, were made at an increasing pace that continues through the present day. This includes the groundbreaking work of both Isaac Newton and Gottfried Wilhelm Leibniz in the development of infinitesimal calculus during the course of the 17th century.\n",
      "----------------------------------------------------------------------------------------------------\n",
      "Document 3:\n",
      "\n",
      "development of mathematics of local motion\n"
     ]
    }
   ],
   "source": [
    "# compressing retrieval and getting matches!\n",
    "from langchain.retrievers.document_compressors import LLMChainExtractor\n",
    "from langchain.retrievers.contextual_compression import ContextualCompressionRetriever\n",
    "\n",
    "compressor = LLMChainExtractor.from_llm(llm)\n",
    "compression_retriever = ContextualCompressionRetriever(\n",
    "    base_compressor=compressor, base_retriever=retriever\n",
    ")\n",
    "\n",
    "compressed_docs = compression_retriever.invoke(\"What is Isaac Newton's contribution in math?\")\n",
    "pretty_print_docs(compressed_docs)"
   ]
  },
  {
   "cell_type": "markdown",
   "metadata": {},
   "source": [
    "## Memory (remember last summer? )"
   ]
  },
  {
   "cell_type": "code",
   "execution_count": 39,
   "metadata": {},
   "outputs": [
    {
     "name": "stderr",
     "output_type": "stream",
     "text": [
      "/var/folders/41/_yk6x3xn1vd5j4kvv_w7mz0r0000gp/T/ipykernel_39279/693036540.py:9: LangChainDeprecationWarning: Please see the migration guide at: https://python.langchain.com/docs/versions/migrating_memory/\n",
      "  memory = ConversationBufferMemory(memory_key=\"chat_history\", return_messages=True)\n",
      "/var/folders/41/_yk6x3xn1vd5j4kvv_w7mz0r0000gp/T/ipykernel_39279/693036540.py:17: LangChainDeprecationWarning: The class `LLMChain` was deprecated in LangChain 0.1.17 and will be removed in 1.0. Use :meth:`~RunnableSequence, e.g., `prompt | llm`` instead.\n",
      "  legacy_chain = LLMChain(\n"
     ]
    },
    {
     "name": "stdout",
     "output_type": "stream",
     "text": [
      "{'text': 'Hello Bob! How can I assist you today?', 'chat_history': [HumanMessage(content='my name is bob', additional_kwargs={}, response_metadata={}), AIMessage(content='Hello Bob! How can I assist you today?', additional_kwargs={}, response_metadata={})]}\n",
      "{'text': 'Your name is Bob.', 'chat_history': [HumanMessage(content='my name is bob', additional_kwargs={}, response_metadata={}), AIMessage(content='Hello Bob! How can I assist you today?', additional_kwargs={}, response_metadata={}), HumanMessage(content='what was my name', additional_kwargs={}, response_metadata={}), AIMessage(content='Your name is Bob.', additional_kwargs={}, response_metadata={})]}\n"
     ]
    }
   ],
   "source": [
    "# One of the most important features in a LLM\n",
    "from langchain.memory import ConversationBufferMemory\n",
    "from langchain.chains import LLMChain, ConversationChain\n",
    "from langchain_core.prompts.chat import (\n",
    "    ChatPromptTemplate,\n",
    "    HumanMessagePromptTemplate,\n",
    "    MessagesPlaceholder,\n",
    ")\n",
    "\n",
    "memory = ConversationBufferMemory(memory_key=\"chat_history\", return_messages=True)\n",
    "prompt_memory = ChatPromptTemplate(\n",
    "    [\n",
    "        MessagesPlaceholder(variable_name=\"chat_history\"),\n",
    "        HumanMessagePromptTemplate.from_template(\"{text}\"),\n",
    "    ]\n",
    ")\n",
    "\n",
    "# Setup predefined memories\n",
    "legacy_chain = LLMChain(\n",
    "    llm=llm,\n",
    "    prompt=prompt_memory,\n",
    "    memory=memory,\n",
    ")\n",
    "\n",
    "\n",
    "legacy_result = legacy_chain.invoke({\"text\": \"my name is bob\"})\n",
    "print(legacy_result)\n",
    "\n",
    "legacy_result = legacy_chain.invoke({\"text\": \"what was my name\"})\n",
    "print(legacy_result)"
   ]
  },
  {
   "cell_type": "markdown",
   "metadata": {},
   "source": [
    "## Agents and Tools (the HOT topic nowadays)"
   ]
  },
  {
   "cell_type": "markdown",
   "metadata": {},
   "source": [
    "### Tools"
   ]
  },
  {
   "cell_type": "code",
   "execution_count": 42,
   "metadata": {},
   "outputs": [],
   "source": [
    "from langchain_core.tools import tool\n",
    "from langchain.tools import StructuredTool\n",
    "\n",
    "@tool\n",
    "def magic_function(input: int) -> int:\n",
    "    \"\"\"Applies a magic function to an input.\"\"\"\n",
    "    return input * input\n",
    "\n",
    "# custom function as tool\n",
    "@tool\n",
    "def text_processing(string: str) -> str:\n",
    "    \"\"\"make uppercase the text\"\"\"\n",
    "    return string.upper()\n",
    "\n",
    "\n",
    "tools = [magic_function, text_processing]"
   ]
  },
  {
   "cell_type": "code",
   "execution_count": 43,
   "metadata": {},
   "outputs": [
    {
     "data": {
      "text/plain": [
       "{'input': 'what is the value of magic_function(3)?',\n",
       " 'output': 'The value of the magic function when the input is 3 is 9.'}"
      ]
     },
     "execution_count": 43,
     "metadata": {},
     "output_type": "execute_result"
    }
   ],
   "source": [
    "from langchain.agents import AgentExecutor, create_tool_calling_agent\n",
    "from langchain_core.prompts import ChatPromptTemplate\n",
    "\n",
    "prompt = ChatPromptTemplate.from_messages(\n",
    "    [\n",
    "        (\"system\", \"You are a helpful assistant\"),\n",
    "        (\"human\", \"{input}\"),\n",
    "        # Placeholders fill up a **list** of messages\n",
    "        (\"placeholder\", \"{agent_scratchpad}\"),\n",
    "    ]\n",
    ")\n",
    "\n",
    "\n",
    "agent = create_tool_calling_agent(llm, tools, prompt)\n",
    "agent_executor = AgentExecutor(agent=agent, tools=tools)\n",
    "\n",
    "query = \"what is the value of magic_function(3)?\"\n",
    "agent_executor.invoke({\"input\": query})\n"
   ]
  },
  {
   "cell_type": "markdown",
   "metadata": {},
   "source": [
    "## Manage history with Langgraph"
   ]
  },
  {
   "cell_type": "markdown",
   "metadata": {},
   "source": [
    "Langgraph makes easier the management of memory and is perfect for agents"
   ]
  },
  {
   "cell_type": "code",
   "execution_count": 46,
   "metadata": {},
   "outputs": [
    {
     "data": {
      "text/plain": [
       "{'input': 'what is the value of magic_function(3)?',\n",
       " 'output': 'The value of the magic function when the input is 3 is 9.'}"
      ]
     },
     "execution_count": 46,
     "metadata": {},
     "output_type": "execute_result"
    }
   ],
   "source": [
    "\n",
    "from langgraph.prebuilt import create_react_agent\n",
    "\n",
    "#same tools as with langchain\n",
    "langgraph_agent_executor = create_react_agent(llm, tools)\n",
    "\n",
    "query = \"what is the value of magic_function(3)?\" # repeated\n",
    "messages = langgraph_agent_executor.invoke({\"messages\": [(\"human\", query)]})\n",
    "{\n",
    "    \"input\": query,\n",
    "    \"output\": messages[\"messages\"][-1].content,\n",
    "}"
   ]
  },
  {
   "cell_type": "markdown",
   "metadata": {},
   "source": [
    "### Sure it remembers?"
   ]
  },
  {
   "cell_type": "code",
   "execution_count": 47,
   "metadata": {},
   "outputs": [
    {
     "data": {
      "text/plain": [
       "{'input': 'Pardon?',\n",
       " 'output': 'The value of the magic function when the input is 3 is 9.'}"
      ]
     },
     "execution_count": 47,
     "metadata": {},
     "output_type": "execute_result"
    }
   ],
   "source": [
    "# History management\n",
    "message_history = messages[\"messages\"]\n",
    "\n",
    "new_query = \"Pardon?\"\n",
    "\n",
    "messages = langgraph_agent_executor.invoke(\n",
    "    {\"messages\": message_history + [(\"human\", new_query)]}\n",
    ")\n",
    "{\n",
    "    \"input\": new_query,\n",
    "    \"output\": messages[\"messages\"][-1].content,\n",
    "}"
   ]
  },
  {
   "cell_type": "markdown",
   "metadata": {},
   "source": [
    "### Agents"
   ]
  },
  {
   "cell_type": "code",
   "execution_count": 48,
   "metadata": {},
   "outputs": [
    {
     "name": "stdout",
     "output_type": "stream",
     "text": [
      "{'input': 'what is the value of magic_function(3)?', 'output': 'El valor de la función mágica con entrada 3 es 9.'}\n"
     ]
    }
   ],
   "source": [
    "from langchain_core.messages import SystemMessage\n",
    "from langgraph.prebuilt import create_react_agent\n",
    "\n",
    "system_message = \"You are a helpful assistant. Respond only in Spanish.\"\n",
    "# This could also be a SystemMessage object\n",
    "# system_message = SystemMessage(content=\"You are a helpful assistant. Respond only in Spanish.\")\n",
    "\n",
    "langgraph_agent_executor = create_react_agent(\n",
    "    llm, tools, state_modifier=system_message\n",
    ")\n",
    "\n",
    "\n",
    "messages = langgraph_agent_executor.invoke({\"messages\": [(\"user\", query)]})\n",
    "print(\n",
    "    {\n",
    "        \"input\": query,\n",
    "        \"output\": messages[\"messages\"][-1].content,\n",
    "    }\n",
    ")"
   ]
  },
  {
   "cell_type": "markdown",
   "metadata": {},
   "source": [
    "### Customize your guidelines for answers"
   ]
  },
  {
   "cell_type": "code",
   "execution_count": 49,
   "metadata": {},
   "outputs": [
    {
     "name": "stdout",
     "output_type": "stream",
     "text": [
      "{'input': 'what is the value of magic_function(3)?', 'output': '¡9! BABY!'}\n"
     ]
    }
   ],
   "source": [
    "from langgraph.prebuilt import create_react_agent\n",
    "from langgraph.prebuilt.chat_agent_executor import AgentState\n",
    "\n",
    "prompt = ChatPromptTemplate.from_messages(\n",
    "    [\n",
    "        (\"system\", \"You are a helpful assistant. Respond only in Spanish.\"),\n",
    "        (\"placeholder\", \"{messages}\"),\n",
    "    ]\n",
    ")\n",
    "\n",
    "\n",
    "def _modify_state_messages(state: AgentState):\n",
    "    return prompt.invoke({\"messages\": state[\"messages\"]}).to_messages() + [\n",
    "        (\"user\", \"Also say 'Baby!' after the answer.\")\n",
    "    ]\n",
    "\n",
    "\n",
    "langgraph_agent_executor = create_react_agent(\n",
    "    llm, tools, state_modifier=_modify_state_messages\n",
    ")\n",
    "messages = langgraph_agent_executor.invoke({\"messages\": [(\"human\", query)]})\n",
    "print(\n",
    "    {\n",
    "        \"input\": query,\n",
    "        \"output\": messages[\"messages\"][-1].content,\n",
    "    }\n",
    ")"
   ]
  },
  {
   "cell_type": "markdown",
   "metadata": {},
   "source": [
    "## Memory"
   ]
  },
  {
   "cell_type": "code",
   "execution_count": 50,
   "metadata": {},
   "outputs": [
    {
     "name": "stdout",
     "output_type": "stream",
     "text": [
      "The output of the magic_function of 3 is 9.\n",
      "---\n",
      "Of course, Polly! How can I forget?\n",
      "---\n",
      "The output of the magic_function of 3 is 9.\n"
     ]
    }
   ],
   "source": [
    "from langgraph.checkpoint.memory import MemorySaver  # an in-memory checkpointer\n",
    "from langgraph.prebuilt import create_react_agent\n",
    "\n",
    "system_message = \"You are a funny assistant.\"\n",
    "# This could also be a SystemMessage object\n",
    "# system_message = SystemMessage(content=\"You are a helpful assistant. Respond only in Spanish.\")\n",
    "\n",
    "memory = MemorySaver()\n",
    "langgraph_agent_executor = create_react_agent(\n",
    "    llm, tools, state_modifier=system_message, checkpointer=memory\n",
    ")\n",
    "\n",
    "config = {\"configurable\": {\"thread_id\": \"test-thread\"}} # id to save state \n",
    "print(\n",
    "    langgraph_agent_executor.invoke(\n",
    "        {\n",
    "            \"messages\": [\n",
    "                (\"user\", \"Hi, I'm polly! What's the output of magic_function of 3?\")\n",
    "            ]\n",
    "        },\n",
    "        config,\n",
    "    )[\"messages\"][-1].content\n",
    ")\n",
    "print(\"---\")\n",
    "print(\n",
    "    langgraph_agent_executor.invoke(\n",
    "        {\"messages\": [(\"user\", \"Remember my name?\")]}, config\n",
    "    )[\"messages\"][-1].content\n",
    ")\n",
    "print(\"---\")\n",
    "print(\n",
    "    langgraph_agent_executor.invoke(\n",
    "        {\"messages\": [(\"user\", \"what was that output again?\")]}, config\n",
    "    )[\"messages\"][-1].content\n",
    ")"
   ]
  },
  {
   "cell_type": "markdown",
   "metadata": {},
   "source": [
    "### Explaining what is happening step by step"
   ]
  },
  {
   "cell_type": "code",
   "execution_count": 51,
   "metadata": {},
   "outputs": [
    {
     "name": "stdout",
     "output_type": "stream",
     "text": [
      "{'agent': {'messages': [AIMessage(content='', additional_kwargs={'tool_calls': [{'id': 'call_IChkBurLGRClATmhoy3UqR3h', 'function': {'arguments': '{\"input\":3}', 'name': 'magic_function'}, 'type': 'function'}], 'refusal': None}, response_metadata={'token_usage': {'completion_tokens': 15, 'prompt_tokens': 82, 'total_tokens': 97, 'completion_tokens_details': {'accepted_prediction_tokens': 0, 'audio_tokens': 0, 'reasoning_tokens': 0, 'rejected_prediction_tokens': 0}, 'prompt_tokens_details': {'audio_tokens': 0, 'cached_tokens': 0}}, 'model_name': 'gpt-3.5-turbo-0125', 'system_fingerprint': None, 'finish_reason': 'tool_calls', 'logprobs': None}, id='run-759d925e-49ce-48fb-8989-0658fd06cf92-0', tool_calls=[{'name': 'magic_function', 'args': {'input': 3}, 'id': 'call_IChkBurLGRClATmhoy3UqR3h', 'type': 'tool_call'}], usage_metadata={'input_tokens': 82, 'output_tokens': 15, 'total_tokens': 97, 'input_token_details': {'audio': 0, 'cache_read': 0}, 'output_token_details': {'audio': 0, 'reasoning': 0}})]}}\n",
      "{'tools': {'messages': [ToolMessage(content='9', name='magic_function', id='7ec3f664-3d78-4645-bb3a-b613a1f8f487', tool_call_id='call_IChkBurLGRClATmhoy3UqR3h')]}}\n",
      "{'agent': {'messages': [AIMessage(content='The value of the magic function when input is 3 is 9.', additional_kwargs={'refusal': None}, response_metadata={'token_usage': {'completion_tokens': 17, 'prompt_tokens': 105, 'total_tokens': 122, 'completion_tokens_details': {'accepted_prediction_tokens': 0, 'audio_tokens': 0, 'reasoning_tokens': 0, 'rejected_prediction_tokens': 0}, 'prompt_tokens_details': {'audio_tokens': 0, 'cached_tokens': 0}}, 'model_name': 'gpt-3.5-turbo-0125', 'system_fingerprint': None, 'finish_reason': 'stop', 'logprobs': None}, id='run-26cd7813-1fd6-4d94-a535-9f65872dbdb1-0', usage_metadata={'input_tokens': 105, 'output_tokens': 17, 'total_tokens': 122, 'input_token_details': {'audio': 0, 'cache_read': 0}, 'output_token_details': {'audio': 0, 'reasoning': 0}})]}}\n"
     ]
    }
   ],
   "source": [
    "from langgraph.prebuilt import create_react_agent\n",
    "from langgraph.prebuilt.chat_agent_executor import AgentState\n",
    "\n",
    "prompt = ChatPromptTemplate.from_messages(\n",
    "    [\n",
    "        (\"system\", \"You are a funny assistant.\"),\n",
    "        (\"placeholder\", \"{messages}\"),\n",
    "    ]\n",
    ")\n",
    "\n",
    "\n",
    "def _modify_state_messages(state: AgentState):\n",
    "    return prompt.invoke({\"messages\": state[\"messages\"]}).to_messages()\n",
    "\n",
    "\n",
    "langgraph_agent_executor = create_react_agent(\n",
    "    llm, tools, state_modifier=_modify_state_messages\n",
    ")\n",
    "\n",
    "for step in langgraph_agent_executor.stream(\n",
    "    {\"messages\": [(\"human\", query)]}, stream_mode=\"updates\"\n",
    "):\n",
    "    print(step)"
   ]
  },
  {
   "cell_type": "markdown",
   "metadata": {},
   "source": [
    "#### Limit recursion (and your money...)"
   ]
  },
  {
   "cell_type": "code",
   "execution_count": 52,
   "metadata": {},
   "outputs": [
    {
     "name": "stdout",
     "output_type": "stream",
     "text": [
      "content='what is the value of magic_function(3)?' additional_kwargs={} response_metadata={} id='760dfd4f-ea28-4b39-8aa3-6177fadacd98'\n",
      "content='' additional_kwargs={'tool_calls': [{'id': 'call_VGkPnlAOoMfnLJb9v4HVqB8z', 'function': {'arguments': '{\"input\":3}', 'name': 'magic_function'}, 'type': 'function'}], 'refusal': None} response_metadata={'token_usage': {'completion_tokens': 15, 'prompt_tokens': 76, 'total_tokens': 91, 'completion_tokens_details': {'accepted_prediction_tokens': 0, 'audio_tokens': 0, 'reasoning_tokens': 0, 'rejected_prediction_tokens': 0}, 'prompt_tokens_details': {'audio_tokens': 0, 'cached_tokens': 0}}, 'model_name': 'gpt-3.5-turbo-0125', 'system_fingerprint': None, 'finish_reason': 'tool_calls', 'logprobs': None} id='run-89b5b728-81db-4c1a-ba41-cd49e297e1da-0' tool_calls=[{'name': 'magic_function', 'args': {'input': 3}, 'id': 'call_VGkPnlAOoMfnLJb9v4HVqB8z', 'type': 'tool_call'}] usage_metadata={'input_tokens': 76, 'output_tokens': 15, 'total_tokens': 91, 'input_token_details': {'audio': 0, 'cache_read': 0}, 'output_token_details': {'audio': 0, 'reasoning': 0}}\n",
      "content='9' name='magic_function' id='ac6e495b-42a5-494c-94d8-0a99ce7f39b0' tool_call_id='call_VGkPnlAOoMfnLJb9v4HVqB8z'\n",
      "content='The value of the magic function when input is 3 is 9.' additional_kwargs={'refusal': None} response_metadata={'token_usage': {'completion_tokens': 17, 'prompt_tokens': 99, 'total_tokens': 116, 'completion_tokens_details': {'accepted_prediction_tokens': 0, 'audio_tokens': 0, 'reasoning_tokens': 0, 'rejected_prediction_tokens': 0}, 'prompt_tokens_details': {'audio_tokens': 0, 'cached_tokens': 0}}, 'model_name': 'gpt-3.5-turbo-0125', 'system_fingerprint': None, 'finish_reason': 'stop', 'logprobs': None} id='run-22f1eeec-ce65-4e53-8be2-63ef59baba0e-0' usage_metadata={'input_tokens': 99, 'output_tokens': 17, 'total_tokens': 116, 'input_token_details': {'audio': 0, 'cache_read': 0}, 'output_token_details': {'audio': 0, 'reasoning': 0}}\n",
      "{'agent': {'messages': [AIMessage(content='', additional_kwargs={'tool_calls': [{'id': 'call_58rnF4vJaHhMVR3Z6vc9Q4aC', 'function': {'arguments': '{\"input\":3}', 'name': 'magic_function'}, 'type': 'function'}], 'refusal': None}, response_metadata={'token_usage': {'completion_tokens': 15, 'prompt_tokens': 76, 'total_tokens': 91, 'completion_tokens_details': {'accepted_prediction_tokens': 0, 'audio_tokens': 0, 'reasoning_tokens': 0, 'rejected_prediction_tokens': 0}, 'prompt_tokens_details': {'audio_tokens': 0, 'cached_tokens': 0}}, 'model_name': 'gpt-3.5-turbo-0125', 'system_fingerprint': None, 'finish_reason': 'tool_calls', 'logprobs': None}, id='run-ae2b39dd-db93-4557-8c47-c31559d7890f-0', tool_calls=[{'name': 'magic_function', 'args': {'input': 3}, 'id': 'call_58rnF4vJaHhMVR3Z6vc9Q4aC', 'type': 'tool_call'}], usage_metadata={'input_tokens': 76, 'output_tokens': 15, 'total_tokens': 91, 'input_token_details': {'audio': 0, 'cache_read': 0}, 'output_token_details': {'audio': 0, 'reasoning': 0}})]}}\n",
      "------\n",
      "{'tools': {'messages': [ToolMessage(content='9', name='magic_function', tool_call_id='call_58rnF4vJaHhMVR3Z6vc9Q4aC')]}}\n",
      "------\n",
      "{'agent': {'messages': [AIMessage(content='The value of the magic function when input is 3 is 9.', additional_kwargs={'refusal': None}, response_metadata={'token_usage': {'completion_tokens': 17, 'prompt_tokens': 99, 'total_tokens': 116, 'completion_tokens_details': {'accepted_prediction_tokens': 0, 'audio_tokens': 0, 'reasoning_tokens': 0, 'rejected_prediction_tokens': 0}, 'prompt_tokens_details': {'audio_tokens': 0, 'cached_tokens': 0}}, 'model_name': 'gpt-3.5-turbo-0125', 'system_fingerprint': None, 'finish_reason': 'stop', 'logprobs': None}, id='run-a77754ff-5007-41a8-b307-f0f35f77ff51-0', usage_metadata={'input_tokens': 99, 'output_tokens': 17, 'total_tokens': 116, 'input_token_details': {'audio': 0, 'cache_read': 0}, 'output_token_details': {'audio': 0, 'reasoning': 0}})]}}\n",
      "------\n"
     ]
    }
   ],
   "source": [
    "from langgraph.errors import GraphRecursionError\n",
    "from langgraph.prebuilt import create_react_agent\n",
    "\n",
    "RECURSION_LIMIT = 2 * 3 + 1\n",
    "\n",
    "langgraph_agent_executor = create_react_agent(llm, tools=tools)\n",
    "\n",
    "try:\n",
    "    for chunk in langgraph_agent_executor.stream(\n",
    "        {\"messages\": [(\"human\", query)]},\n",
    "        {\"recursion_limit\": RECURSION_LIMIT},\n",
    "        stream_mode=\"values\",\n",
    "    ):\n",
    "        print(chunk[\"messages\"][-1])\n",
    "except GraphRecursionError:\n",
    "    print({\"input\": query, \"output\": \"Agent stopped due to max iterations.\"})\n",
    "\n",
    "# Set the max timeout for each step here\n",
    "langgraph_agent_executor.step_timeout = 2\n",
    "\n",
    "try:\n",
    "    for chunk in langgraph_agent_executor.stream({\"messages\": [(\"human\", query)]}):\n",
    "        print(chunk)\n",
    "        print(\"------\")\n",
    "except TimeoutError:\n",
    "    print({\"input\": query, \"output\": \"Agent stopped due to a step timeout.\"})"
   ]
  },
  {
   "cell_type": "markdown",
   "metadata": {},
   "source": [
    "## Human in the loop"
   ]
  },
  {
   "cell_type": "markdown",
   "metadata": {},
   "source": [
    "### Interrupt"
   ]
  },
  {
   "cell_type": "code",
   "execution_count": 53,
   "metadata": {},
   "outputs": [
    {
     "data": {
      "image/png": "[encoded data removed]",
      "text/plain": [
       "<IPython.core.display.Image object>"
      ]
     },
     "metadata": {},
     "output_type": "display_data"
    }
   ],
   "source": [
    "from typing_extensions import TypedDict\n",
    "from langgraph.graph import StateGraph, START, END\n",
    "from langgraph.types import Command, interrupt\n",
    "from langgraph.checkpoint.memory import MemorySaver\n",
    "from IPython.display import Image, display\n",
    "\n",
    "\n",
    "class State(TypedDict):\n",
    "    input: str\n",
    "    user_feedback: str\n",
    "\n",
    "\n",
    "def step_1(state):\n",
    "    print(\"---Step 1---\")\n",
    "    pass\n",
    "\n",
    "\n",
    "def human_feedback(state):\n",
    "    print(\"---human_feedback---\")\n",
    "    feedback = interrupt(\"Please provide feedback:\")\n",
    "    return {\"user_feedback\": feedback}\n",
    "\n",
    "\n",
    "def step_3(state):\n",
    "    print(\"---Step 3---\")\n",
    "    pass\n",
    "\n",
    "\n",
    "builder = StateGraph(State)\n",
    "builder.add_node(\"step_1\", step_1)\n",
    "builder.add_node(\"human_feedback\", human_feedback)\n",
    "builder.add_node(\"step_3\", step_3)\n",
    "builder.add_edge(START, \"step_1\")\n",
    "builder.add_edge(\"step_1\", \"human_feedback\")\n",
    "builder.add_edge(\"human_feedback\", \"step_3\")\n",
    "builder.add_edge(\"step_3\", END)\n",
    "\n",
    "# Set up memory\n",
    "memory = MemorySaver()\n",
    "\n",
    "# Add\n",
    "graph = builder.compile(checkpointer=memory)\n",
    "\n",
    "# View\n",
    "display(Image(graph.get_graph().draw_mermaid_png()))"
   ]
  },
  {
   "cell_type": "code",
   "execution_count": 54,
   "metadata": {},
   "outputs": [
    {
     "name": "stdout",
     "output_type": "stream",
     "text": [
      "---Step 1---\n",
      "{'step_1': None}\n",
      "\n",
      "\n",
      "---human_feedback---\n",
      "{'__interrupt__': (Interrupt(value='Please provide feedback:', resumable=True, ns=['human_feedback:3fca4a1b-7e3d-5760-58d8-3aeb135d0d7b'], when='during'),)}\n",
      "\n",
      "\n",
      "---human_feedback---\n",
      "{'human_feedback': {'user_feedback': 'go to step 3!'}}\n",
      "\n",
      "\n",
      "---Step 3---\n",
      "{'step_3': None}\n",
      "\n",
      "\n"
     ]
    },
    {
     "data": {
      "text/plain": [
       "{'input': 'hello world', 'user_feedback': 'go to step 3!'}"
      ]
     },
     "execution_count": 54,
     "metadata": {},
     "output_type": "execute_result"
    }
   ],
   "source": [
    "# Input\n",
    "initial_input = {\"input\": \"hello world\"}\n",
    "\n",
    "# Thread\n",
    "thread = {\"configurable\": {\"thread_id\": \"1\"}}\n",
    "\n",
    "# Run the graph until the first interruption\n",
    "for event in graph.stream(initial_input, thread, stream_mode=\"updates\"):\n",
    "    print(event)\n",
    "    print(\"\\n\")\n",
    "\n",
    "# Human kicks in to show who's the boss!\n",
    "for event in graph.stream(\n",
    "    Command(resume=\"go to step 3!\"), thread, stream_mode=\"updates\"\n",
    "):\n",
    "    print(event)\n",
    "    print(\"\\n\")\n",
    "\n",
    "graph.get_state(thread).values"
   ]
  },
  {
   "cell_type": "markdown",
   "metadata": {},
   "source": [
    "### With an LLM Agent"
   ]
  },
  {
   "cell_type": "code",
   "execution_count": 58,
   "metadata": {},
   "outputs": [
    {
     "data": {
      "image/png": "[encoded data removed]",
      "text/plain": [
       "<IPython.core.display.Image object>"
      ]
     },
     "metadata": {},
     "output_type": "display_data"
    }
   ],
   "source": [
    "# Set up the state\n",
    "from langgraph.graph import MessagesState, START\n",
    "\n",
    "# Set up the tool\n",
    "# We will have one real tool - a search tool\n",
    "# We'll also have one \"fake\" tool - a \"ask_human\" tool\n",
    "# Here we define any ACTUAL tools\n",
    "from langchain_core.tools import tool\n",
    "from langgraph.prebuilt import ToolNode\n",
    "\n",
    "\n",
    "@tool\n",
    "def search(query: str):\n",
    "    \"\"\"Call to surf the web.\"\"\"\n",
    "    # This is a placeholder for the actual implementation\n",
    "    # Don't let the LLM know this though 😊\n",
    "    return f\"I looked up: {query}. Result: It's sunny in Paris.\"\n",
    "\n",
    "\n",
    "tools = [search]\n",
    "tool_node = ToolNode(tools)\n",
    "\n",
    "# Set up the model: get from previous setup\n",
    "model = llm\n",
    "\n",
    "from pydantic import BaseModel\n",
    "\n",
    "\n",
    "# We are going \"bind\" all tools to the model\n",
    "# We have the ACTUAL tools from above, but we also need a mock tool to ask a human\n",
    "# Since `bind_tools` takes in tools but also just tool definitions,\n",
    "# We can define a tool definition for `ask_human`\n",
    "class AskHuman(BaseModel):\n",
    "    \"\"\"Ask the human a question\"\"\"\n",
    "\n",
    "    question: str\n",
    "\n",
    "\n",
    "model = model.bind_tools(tools + [AskHuman])\n",
    "\n",
    "\n",
    "# Define the function that determines whether to continue or not\n",
    "def should_continue(state):\n",
    "    messages = state[\"messages\"]\n",
    "    last_message = messages[-1]\n",
    "    # If there is no function call, then we finish\n",
    "    if not last_message.tool_calls:\n",
    "        return END\n",
    "    # If tool call is asking Human, we return that node\n",
    "    # You could also add logic here to let some system know that there's something that requires Human input\n",
    "    # For example, send a slack message, etc\n",
    "    elif last_message.tool_calls[0][\"name\"] == \"AskHuman\":\n",
    "        return \"ask_human\"\n",
    "    # Otherwise if there is, we continue\n",
    "    else:\n",
    "        return \"action\"\n",
    "\n",
    "\n",
    "# Define the function that calls the model\n",
    "def call_model(state):\n",
    "    messages = state[\"messages\"]\n",
    "    response = model.invoke(messages)\n",
    "    # We return a list, because this will get added to the existing list\n",
    "    return {\"messages\": [response]}\n",
    "\n",
    "\n",
    "# We define a fake node to ask the human\n",
    "def ask_human(state):\n",
    "    tool_call_id = state[\"messages\"][-1].tool_calls[0][\"id\"]\n",
    "    location = interrupt(\"Please provide your location:\")\n",
    "    tool_message = [{\"tool_call_id\": tool_call_id, \"type\": \"tool\", \"content\": location}]\n",
    "    return {\"messages\": tool_message}\n",
    "\n",
    "\n",
    "# Build the graph\n",
    "\n",
    "from langgraph.graph import END, StateGraph\n",
    "\n",
    "# Define a new graph\n",
    "workflow = StateGraph(MessagesState)\n",
    "\n",
    "# Define the three nodes we will cycle between\n",
    "workflow.add_node(\"agent\", call_model)\n",
    "workflow.add_node(\"action\", tool_node)\n",
    "workflow.add_node(\"ask_human\", ask_human)\n",
    "\n",
    "# Set the entrypoint as `agent`\n",
    "# This means that this node is the first one called\n",
    "workflow.add_edge(START, \"agent\")\n",
    "\n",
    "# We now add a conditional edge\n",
    "workflow.add_conditional_edges(\n",
    "    # First, we define the start node. We use `agent`.\n",
    "    # This means these are the edges taken after the `agent` node is called.\n",
    "    \"agent\",\n",
    "    # Next, we pass in the function that will determine which node is called next.\n",
    "    should_continue,\n",
    ")\n",
    "\n",
    "# We now add a normal edge from `tools` to `agent`.\n",
    "# This means that after `tools` is called, `agent` node is called next.\n",
    "workflow.add_edge(\"action\", \"agent\")\n",
    "\n",
    "# After we get back the human response, we go back to the agent\n",
    "workflow.add_edge(\"ask_human\", \"agent\")\n",
    "\n",
    "# Set up memory\n",
    "from langgraph.checkpoint.memory import MemorySaver\n",
    "\n",
    "memory = MemorySaver()\n",
    "\n",
    "# Finally, we compile it!\n",
    "# This compiles it into a LangChain Runnable,\n",
    "# meaning you can use it as you would any other runnable\n",
    "# We add a breakpoint BEFORE the `ask_human` node so it never executes\n",
    "app = workflow.compile(checkpointer=memory)\n",
    "\n",
    "display(Image(app.get_graph().draw_mermaid_png()))"
   ]
  },
  {
   "cell_type": "code",
   "execution_count": 59,
   "metadata": {},
   "outputs": [
    {
     "name": "stdout",
     "output_type": "stream",
     "text": [
      "================================\u001b[1m Human Message \u001b[0m=================================\n",
      "\n",
      "Use the search tool to ask the user where they are, ask each time where the user is, then look up the weather there\n",
      "==================================\u001b[1m Ai Message \u001b[0m==================================\n",
      "Tool Calls:\n",
      "  search (call_L3jjYBPTSfijagfAKgsXUsc2)\n",
      " Call ID: call_L3jjYBPTSfijagfAKgsXUsc2\n",
      "  Args:\n",
      "    query: Where are you?\n",
      "=================================\u001b[1m Tool Message \u001b[0m=================================\n",
      "Name: search\n",
      "\n",
      "I looked up: Where are you?. Result: It's sunny in Paris.\n",
      "==================================\u001b[1m Ai Message \u001b[0m==================================\n",
      "Tool Calls:\n",
      "  search (call_OKNonuzi8eq4XJDenbxrVSZS)\n",
      " Call ID: call_OKNonuzi8eq4XJDenbxrVSZS\n",
      "  Args:\n",
      "    query: Paris weather\n",
      "=================================\u001b[1m Tool Message \u001b[0m=================================\n",
      "Name: search\n",
      "\n",
      "I looked up: Paris weather. Result: It's sunny in Paris.\n",
      "==================================\u001b[1m Ai Message \u001b[0m==================================\n",
      "\n",
      "The weather in Paris is currently sunny.\n"
     ]
    }
   ],
   "source": [
    "# Call agent\n",
    "\n",
    "config = {\"configurable\": {\"thread_id\": \"2\"}}\n",
    "for event in app.stream(\n",
    "    {\n",
    "        \"messages\": [\n",
    "            (\n",
    "                \"user\",\n",
    "                \"Use the search tool to ask the user where they are, ask each time where the user is, then look up the weather there\",\n",
    "            )\n",
    "        ]\n",
    "    },\n",
    "    config,\n",
    "    stream_mode=\"values\",\n",
    "):\n",
    "    event[\"messages\"][-1].pretty_print()"
   ]
  },
  {
   "cell_type": "code",
   "execution_count": 60,
   "metadata": {},
   "outputs": [
    {
     "name": "stdout",
     "output_type": "stream",
     "text": [
      "==================================\u001b[1m Ai Message \u001b[0m==================================\n",
      "\n",
      "The weather in Paris is currently sunny.\n"
     ]
    }
   ],
   "source": [
    "app.get_state(config).next\n",
    "\n",
    "# Give the input for the location because it is waiting for it\n",
    "for event in app.stream(Command(resume=\"Paris\"), config, stream_mode=\"values\"):\n",
    "    event[\"messages\"][-1].pretty_print()"
   ]
  },
  {
   "cell_type": "markdown",
   "metadata": {},
   "source": [
    "### Search the internet and ask Human info if needed"
   ]
  },
  {
   "cell_type": "code",
   "execution_count": 61,
   "metadata": {},
   "outputs": [
    {
     "data": {
      "image/png": "[encoded data removed]",
      "text/plain": [
       "<IPython.core.display.Image object>"
      ]
     },
     "metadata": {},
     "output_type": "display_data"
    }
   ],
   "source": [
    "# Set up the state\n",
    "from langgraph.graph import MessagesState, START\n",
    "\n",
    "# Set up the tool\n",
    "# We will have one real tool - a search tool\n",
    "# We'll also have one \"fake\" tool - a \"ask_human\" tool\n",
    "# Here we define any ACTUAL tools\n",
    "from langchain_core.tools import tool\n",
    "from langgraph.prebuilt import ToolNode\n",
    "from langchain_community.tools import TavilySearchResults\n",
    "\n",
    "# temperature is important, otherwise model will just make assumptions and skip tool call\n",
    "model = ChatOpenAI(model=\"gpt-3.5-turbo\",temperature=0.8)\n",
    "\n",
    "# make a websearch with Tavily\n",
    "search = TavilySearchResults(max_results=2)\n",
    "\n",
    "tools = [search]\n",
    "tool_node = ToolNode(tools)\n",
    "\n",
    "from pydantic import BaseModel\n",
    "\n",
    "\n",
    "# We are going \"bind\" all tools to the model\n",
    "# We have the ACTUAL tools from above, but we also need a mock tool to ask a human\n",
    "# Since `bind_tools` takes in tools but also just tool definitions,\n",
    "# We can define a tool definition for `ask_human`\n",
    "class AskHuman(BaseModel):\n",
    "    \"\"\"Ask the human a question\"\"\"\n",
    "\n",
    "    question: str\n",
    "\n",
    "\n",
    "model = model.bind_tools(tools + [AskHuman])\n",
    "\n",
    "# Define nodes and conditional edges\n",
    "\n",
    "\n",
    "# Define the function that determines whether to continue or not\n",
    "def should_continue(state):\n",
    "    messages = state[\"messages\"]\n",
    "    last_message = messages[-1]\n",
    "    # If there is no function call, then we finish\n",
    "    if not last_message.tool_calls:\n",
    "        return END\n",
    "    # If tool call is asking Human, we return that node\n",
    "    # You could also add logic here to let some system know that there's something that requires Human input\n",
    "    # For example, send a slack message, etc\n",
    "    elif last_message.tool_calls[0][\"name\"] == \"AskHuman\":\n",
    "        return \"ask_human\"\n",
    "    # Otherwise if there is, we continue\n",
    "    else:\n",
    "        return \"action\"\n",
    "\n",
    "\n",
    "# Define the function that calls the model\n",
    "def call_model(state):\n",
    "    messages = state[\"messages\"]\n",
    "    response = model.invoke(messages)\n",
    "    # We return a list, because this will get added to the existing list\n",
    "    return {\"messages\": [response]}\n",
    "\n",
    "\n",
    "# We define a fake node to ask the human\n",
    "def ask_human(state):\n",
    "    tool_call_id = state[\"messages\"][-1].tool_calls[0][\"id\"]\n",
    "    location = interrupt(\"Please provide your location:\")\n",
    "    tool_message = [{\"tool_call_id\": tool_call_id, \"type\": \"tool\", \"content\": location}]\n",
    "    return {\"messages\": tool_message}\n",
    "\n",
    "\n",
    "# Build the graph\n",
    "\n",
    "from langgraph.graph import END, StateGraph\n",
    "\n",
    "# Define a new graph\n",
    "workflow = StateGraph(MessagesState)\n",
    "\n",
    "# Define the three nodes we will cycle between\n",
    "workflow.add_node(\"agent\", call_model)\n",
    "workflow.add_node(\"action\", tool_node)\n",
    "workflow.add_node(\"ask_human\", ask_human)\n",
    "\n",
    "# Set the entrypoint as `agent`\n",
    "# This means that this node is the first one called\n",
    "workflow.add_edge(START, \"agent\")\n",
    "\n",
    "# We now add a conditional edge\n",
    "workflow.add_conditional_edges(\n",
    "    # First, we define the start node. We use `agent`.\n",
    "    # This means these are the edges taken after the `agent` node is called.\n",
    "    \"agent\",\n",
    "    # Next, we pass in the function that will determine which node is called next.\n",
    "    should_continue,\n",
    ")\n",
    "\n",
    "# We now add a normal edge from `tools` to `agent`.\n",
    "# This means that after `tools` is called, `agent` node is called next.\n",
    "workflow.add_edge(\"action\", \"agent\")\n",
    "\n",
    "# After we get back the human response, we go back to the agent\n",
    "workflow.add_edge(\"ask_human\", \"agent\")\n",
    "\n",
    "# Set up memory\n",
    "from langgraph.checkpoint.memory import MemorySaver\n",
    "\n",
    "memory = MemorySaver()\n",
    "\n",
    "# Finally, we compile it!\n",
    "# This compiles it into a LangChain Runnable,\n",
    "# meaning you can use it as you would any other runnable\n",
    "# We add a breakpoint BEFORE the `ask_human` node so it never executes\n",
    "app = workflow.compile(checkpointer=memory)\n",
    "\n",
    "display(Image(app.get_graph().draw_mermaid_png()))"
   ]
  },
  {
   "cell_type": "code",
   "execution_count": 62,
   "metadata": {},
   "outputs": [
    {
     "name": "stdout",
     "output_type": "stream",
     "text": [
      "================================\u001b[1m Human Message \u001b[0m=================================\n",
      "\n",
      "Use the search tool to ask the user where they are, then look up the weather there\n",
      "==================================\u001b[1m Ai Message \u001b[0m==================================\n",
      "Tool Calls:\n",
      "  AskHuman (call_hBMLXlindeu8EmxHpiup8ofU)\n",
      " Call ID: call_hBMLXlindeu8EmxHpiup8ofU\n",
      "  Args:\n",
      "    question: Where are you currently located?\n"
     ]
    }
   ],
   "source": [
    "config = {\"configurable\": {\"thread_id\": \"2\"}}\n",
    "for event in app.stream(\n",
    "    {\n",
    "        \"messages\": [\n",
    "            (\n",
    "                \"user\",\n",
    "                \"Use the search tool to ask the user where they are, then look up the weather there\",\n",
    "            )\n",
    "        ]\n",
    "    },\n",
    "    config,\n",
    "    stream_mode=\"values\",\n",
    "):\n",
    "    event[\"messages\"][-1].pretty_print()"
   ]
  },
  {
   "cell_type": "code",
   "execution_count": 63,
   "metadata": {},
   "outputs": [
    {
     "data": {
      "text/plain": [
       "('ask_human',)"
      ]
     },
     "execution_count": 63,
     "metadata": {},
     "output_type": "execute_result"
    }
   ],
   "source": [
    "app.get_state(config).next"
   ]
  },
  {
   "cell_type": "code",
   "execution_count": 64,
   "metadata": {},
   "outputs": [
    {
     "name": "stdout",
     "output_type": "stream",
     "text": [
      "==================================\u001b[1m Ai Message \u001b[0m==================================\n",
      "Tool Calls:\n",
      "  AskHuman (call_hBMLXlindeu8EmxHpiup8ofU)\n",
      " Call ID: call_hBMLXlindeu8EmxHpiup8ofU\n",
      "  Args:\n",
      "    question: Where are you currently located?\n",
      "=================================\u001b[1m Tool Message \u001b[0m=================================\n",
      "\n",
      "Badajoz\n",
      "==================================\u001b[1m Ai Message \u001b[0m==================================\n",
      "Tool Calls:\n",
      "  tavily_search_results_json (call_5XsYPbjiZ7cdvv2hVtez0bvk)\n",
      " Call ID: call_5XsYPbjiZ7cdvv2hVtez0bvk\n",
      "  Args:\n",
      "    query: weather in Badajoz\n",
      "=================================\u001b[1m Tool Message \u001b[0m=================================\n",
      "Name: tavily_search_results_json\n",
      "\n",
      "[{\"url\": \"https://www.weatherapi.com/\", \"content\": \"{'location': {'name': 'Badajoz', 'region': 'Extremadura', 'country': 'Spain', 'lat': 38.8833, 'lon': -6.9667, 'tz_id': 'Europe/Madrid', 'localtime_epoch': 1740074127, 'localtime': '2025-02-20 18:55'}, 'current': {'last_updated_epoch': 1740073500, 'last_updated': '2025-02-20 18:45', 'temp_c': 19.1, 'temp_f': 66.4, 'is_day': 1, 'condition': {'text': 'Partly cloudy', 'icon': '//cdn.weatherapi.com/weather/64x64/day/116.png', 'code': 1003}, 'wind_mph': 2.2, 'wind_kph': 3.6, 'wind_degree': 316, 'wind_dir': 'NW', 'pressure_mb': 1024.0, 'pressure_in': 30.24, 'precip_mm': 0.0, 'precip_in': 0.0, 'humidity': 64, 'cloud': 25, 'feelslike_c': 19.1, 'feelslike_f': 66.4, 'windchill_c': 18.1, 'windchill_f': 64.6, 'heatindex_c': 18.1, 'heatindex_f': 64.6, 'dewpoint_c': 11.5, 'dewpoint_f': 52.7, 'vis_km': 10.0, 'vis_miles': 6.0, 'uv': 0.2, 'gust_mph': 2.3, 'gust_kph': 3.6}}\"}, {\"url\": \"https://en.climate-data.org/europe/spain/extremadura/badajoz-714920/t/february-2/\", \"content\": \"Are you planning a holiday with hopefully nice weather in Badajoz in February 2025? ... 20. February, 10 °C | 51 °F, 16 °C | 61 °F, 5 °C | 41 °F, 1.0 mm | 0.0\"}]\n",
      "==================================\u001b[1m Ai Message \u001b[0m==================================\n",
      "\n",
      "The weather in Badajoz, Spain is currently partly cloudy. The temperature is 19.1°C (66.4°F) with a gentle wind from the northwest at 3.6 km/h. The humidity is at 64% with 25% cloud cover.\n"
     ]
    }
   ],
   "source": [
    "for event in app.stream(Command(resume=\"Badajoz\"), config, stream_mode=\"values\"):\n",
    "    event[\"messages\"][-1].pretty_print()"
   ]
  },
  {
   "cell_type": "markdown",
   "metadata": {},
   "source": [
    "### Review before calling certain tools"
   ]
  },
  {
   "cell_type": "code",
   "execution_count": 65,
   "metadata": {},
   "outputs": [
    {
     "data": {
      "image/png": "[encoded data removed]",
      "text/plain": [
       "<IPython.core.display.Image object>"
      ]
     },
     "metadata": {},
     "output_type": "display_data"
    },
    {
     "name": "stdout",
     "output_type": "stream",
     "text": [
      "{'call_llm': {'messages': [AIMessage(content='', additional_kwargs={'tool_calls': [{'id': 'call_gfhADmhR8pDT8woRiNcrSel3', 'function': {'arguments': '{\"query\":\"weather in San Francisco\"}', 'name': 'tavily_search_results_json'}, 'type': 'function'}], 'refusal': None}, response_metadata={'token_usage': {'completion_tokens': 22, 'prompt_tokens': 90, 'total_tokens': 112, 'completion_tokens_details': {'accepted_prediction_tokens': 0, 'audio_tokens': 0, 'reasoning_tokens': 0, 'rejected_prediction_tokens': 0}, 'prompt_tokens_details': {'audio_tokens': 0, 'cached_tokens': 0}}, 'model_name': 'gpt-3.5-turbo-0125', 'system_fingerprint': None, 'finish_reason': 'tool_calls', 'logprobs': None}, id='run-3d12de36-ce08-4a62-a862-4d36ea9db4c5-0', tool_calls=[{'name': 'tavily_search_results_json', 'args': {'query': 'weather in San Francisco'}, 'id': 'call_gfhADmhR8pDT8woRiNcrSel3', 'type': 'tool_call'}], usage_metadata={'input_tokens': 90, 'output_tokens': 22, 'total_tokens': 112, 'input_token_details': {'audio': 0, 'cache_read': 0}, 'output_token_details': {'audio': 0, 'reasoning': 0}})]}}\n",
      "\n",
      "\n",
      "{'__interrupt__': (Interrupt(value={'question': 'Is this correct?', 'tool_call': {'name': 'tavily_search_results_json', 'args': {'query': 'weather in San Francisco'}, 'id': 'call_gfhADmhR8pDT8woRiNcrSel3', 'type': 'tool_call'}}, resumable=True, ns=['human_review_node:a6f31567-48c3-12ce-4ed2-2ea0b2c0136f'], when='during'),)}\n",
      "\n",
      "\n"
     ]
    }
   ],
   "source": [
    "from typing_extensions import TypedDict, Literal\n",
    "from langgraph.graph import StateGraph, START, END, MessagesState\n",
    "from langgraph.checkpoint.memory import MemorySaver\n",
    "from langgraph.types import Command, interrupt\n",
    "from langchain_core.tools import tool\n",
    "from langchain_core.messages import AIMessage\n",
    "from IPython.display import Image, display\n",
    "from langchain_community.tools import TavilySearchResults\n",
    "import json\n",
    "\n",
    "# make a websearch with Tavily\n",
    "web_search = TavilySearchResults(max_results=5,\n",
    "                include_answer=True,)\n",
    "\n",
    "\n",
    "model = ChatOpenAI(model=\"gpt-3.5-turbo\",temperature=0.8).bind_tools(\n",
    "    [web_search]\n",
    ")\n",
    "\n",
    "\n",
    "class State(MessagesState):\n",
    "    \"\"\"Simple state.\"\"\"\n",
    "\n",
    "\n",
    "def call_llm(state):\n",
    "    return {\"messages\": [model.invoke(state[\"messages\"])]}\n",
    "\n",
    "\n",
    "def human_review_node(state) -> Command[Literal[\"call_llm\", \"run_tool\"]]:\n",
    "    last_message = state[\"messages\"][-1]\n",
    "    tool_call = last_message.tool_calls[-1]\n",
    "\n",
    "    # this is the value we'll be providing via Command(resume=<human_review>)\n",
    "    human_review = interrupt(\n",
    "        {\n",
    "            \"question\": \"Is this correct?\",\n",
    "            # Surface tool calls for review\n",
    "            \"tool_call\": tool_call,\n",
    "        }\n",
    "    )\n",
    "\n",
    "    review_action = human_review[\"action\"]\n",
    "    review_data = human_review.get(\"data\")\n",
    "\n",
    "    # if approved, call the tool\n",
    "    if review_action == \"continue\":\n",
    "        return Command(goto=\"run_tool\")\n",
    "\n",
    "    # update the AI message AND call tools\n",
    "    elif review_action == \"update\":\n",
    "        updated_message = {\n",
    "            \"role\": \"ai\",\n",
    "            \"content\": last_message.content,\n",
    "            \"tool_calls\": [\n",
    "                {\n",
    "                    \"id\": tool_call[\"id\"],\n",
    "                    \"name\": tool_call[\"name\"],\n",
    "                    # This the update provided by the human\n",
    "                    \"args\": review_data,\n",
    "                }\n",
    "            ],\n",
    "            # This is important - this needs to be the same as the message you replacing!\n",
    "            # Otherwise, it will show up as a separate message\n",
    "            \"id\": last_message.id,\n",
    "        }\n",
    "        return Command(goto=\"run_tool\", update={\"messages\": [updated_message]})\n",
    "\n",
    "    # provide feedback to LLM\n",
    "    elif review_action == \"feedback\":\n",
    "        # NOTE: we're adding feedback message as a ToolMessage\n",
    "        # to preserve the correct order in the message history\n",
    "        # (AI messages with tool calls need to be followed by tool call messages)\n",
    "        tool_message = {\n",
    "            \"role\": \"tool\",\n",
    "            # This is our natural language feedback\n",
    "            \"content\": review_data,\n",
    "            \"name\": tool_call[\"name\"],\n",
    "            \"tool_call_id\": tool_call[\"id\"],\n",
    "        }\n",
    "        return Command(goto=\"call_llm\", update={\"messages\": [tool_message]})\n",
    "\n",
    "\n",
    "def run_tool(state):\n",
    "    new_messages = []\n",
    "    tools = {\"tavily_search_results_json\": web_search}\n",
    "    tool_calls = state[\"messages\"][-1].tool_calls\n",
    "    for tool_call in tool_calls:\n",
    "        json_data = json.dumps(tool_call, indent=2)\n",
    "        print(json_data)\n",
    "        tool = tools[tool_call[\"name\"]]\n",
    "        result = tool.invoke({\"args\": tool_call[\"args\"], \"type\": \"tool_call\", \"id\": tool_call[\"id\"], \"name\": tool.name})\n",
    "        new_messages.append(\n",
    "            {\n",
    "                \"role\": \"tool\",\n",
    "                \"name\": tool_call[\"name\"],\n",
    "                \"content\": result,\n",
    "                \"tool_call_id\": tool_call[\"id\"],\n",
    "            }\n",
    "        )\n",
    "    return {\"messages\": new_messages}\n",
    "\n",
    "\n",
    "def route_after_llm(state) -> Literal[END, \"human_review_node\"]:\n",
    "    if len(state[\"messages\"][-1].tool_calls) == 0:\n",
    "        return END\n",
    "    else:\n",
    "        return \"human_review_node\"\n",
    "\n",
    "\n",
    "builder = StateGraph(State)\n",
    "builder.add_node(call_llm)\n",
    "builder.add_node(run_tool)\n",
    "builder.add_node(human_review_node)\n",
    "builder.add_edge(START, \"call_llm\")\n",
    "builder.add_conditional_edges(\"call_llm\", route_after_llm)\n",
    "builder.add_edge(\"run_tool\", \"call_llm\")\n",
    "\n",
    "# Set up memory\n",
    "memory = MemorySaver()\n",
    "\n",
    "# Add\n",
    "graph = builder.compile(checkpointer=memory)\n",
    "\n",
    "# View\n",
    "display(Image(graph.get_graph().draw_mermaid_png()))\n",
    "\n",
    "# Input\n",
    "initial_input = {\"messages\": [{\"role\": \"user\", \"content\": \"what's the weather in san francisco?\"}]}\n",
    "\n",
    "# Thread\n",
    "thread = {\"configurable\": {\"thread_id\": \"2\"}}\n",
    "\n",
    "# Run the graph until the first interruption\n",
    "for event in graph.stream(initial_input, thread, stream_mode=\"updates\"):\n",
    "    print(event)\n",
    "    print(\"\\n\")"
   ]
  },
  {
   "cell_type": "code",
   "execution_count": 316,
   "metadata": {},
   "outputs": [
    {
     "name": "stdout",
     "output_type": "stream",
     "text": [
      "Pending Executions!\n",
      "('human_review_node',)\n",
      "{'human_review_node': None}\n",
      "\n",
      "\n",
      "{\n",
      "  \"name\": \"tavily_search_results_json\",\n",
      "  \"args\": {\n",
      "    \"query\": \"weather in San Francisco\"\n",
      "  },\n",
      "  \"id\": \"call_4oXi4XX4FRmbRtDe0BevEfHh\",\n",
      "  \"type\": \"tool_call\"\n",
      "}\n",
      "{'run_tool': {'messages': [{'role': 'tool', 'name': 'tavily_search_results_json', 'content': ToolMessage(content='[{\"url\": \"https://www.weatherapi.com/\", \"content\": \"{\\'location\\': {\\'name\\': \\'San Francisco\\', \\'region\\': \\'California\\', \\'country\\': \\'United States of America\\', \\'lat\\': 37.775, \\'lon\\': -122.4183, \\'tz_id\\': \\'America/Los_Angeles\\', \\'localtime_epoch\\': 1736261591, \\'localtime\\': \\'2025-01-07 06:53\\'}, \\'current\\': {\\'last_updated_epoch\\': 1736261100, \\'last_updated\\': \\'2025-01-07 06:45\\', \\'temp_c\\': 13.3, \\'temp_f\\': 55.9, \\'is_day\\': 0, \\'condition\\': {\\'text\\': \\'Clear\\', \\'icon\\': \\'//cdn.weatherapi.com/weather/64x64/night/113.png\\', \\'code\\': 1000}, \\'wind_mph\\': 13.0, \\'wind_kph\\': 20.9, \\'wind_degree\\': 6, \\'wind_dir\\': \\'N\\', \\'pressure_mb\\': 1024.0, \\'pressure_in\\': 30.23, \\'precip_mm\\': 0.0, \\'precip_in\\': 0.0, \\'humidity\\': 62, \\'cloud\\': 0, \\'feelslike_c\\': 11.5, \\'feelslike_f\\': 52.6, \\'windchill_c\\': 8.7, \\'windchill_f\\': 47.7, \\'heatindex_c\\': 10.9, \\'heatindex_f\\': 51.6, \\'dewpoint_c\\': 3.8, \\'dewpoint_f\\': 38.9, \\'vis_km\\': 16.0, \\'vis_miles\\': 9.0, \\'uv\\': 1.0, \\'gust_mph\\': 22.3, \\'gust_kph\\': 35.8}}\"}, {\"url\": \"https://www.weather25.com/north-america/usa/california/san-francisco?page=month&month=January\", \"content\": \"San Francisco weather in January 2025 | Weather25.com San Francisco weather in January 2025 | San Francisco in January | Temperatures in San Francisco in January Weather in San Francisco in January - FAQ The average temperature in San Francisco in January is 7/15° C. On average, there are 4 rainy days in San Francisco during January. The weather in San Francisco in January is good. On average, there are 0 snowy days in San Francisco in January. More about the weather in San Francisco San Francisco 14 day weather Long range weather for San Francisco San Francisco weather in November San Francisco weather in December San Francisco Webcam Weather tomorrow Hotels in San Francisco\"}, {\"url\": \"https://weathershogun.com/weather/usa/ca/san-francisco/480/january\", \"content\": \"January 2025 Weather in San Francisco, CA San Francisco, CA Today Hourly 7 days 30 days January January 2025 Weather | San Francisco, California Today 1/3 Day 57° Night 45° 100Sat 1/4 Day 57° Night 45° 3Sun 1/5 Day 59° Night 46° 3Mon 1/6 Day 57° Night 50° 1Tue 1/7 Day 64° Night 50° 0Wed 1/8 Day 64° Night 48° 0Thu 1/9 Day 63° Night 50° 0Fri 1/10 Day 63° Night 48° 0Sat 1/11 Day 63° Night 50° 0Sun 1/12 Day 61° Night 46° 0Mon 1/13 Day 63° Night 48° 0Tue 1/14 Day 59° Night 48° 0Wed 1/15 Day 57° Night 46° 0Thu 1/16 Day 59° Night 46° 25Fri 1/17 Day 61° Night 50° 25Sat 1/18 Day 57° Night 50° 25Sun 1/19 Day 57° Night 48° 25Mon 1/20 Day 55° Night 45° 25Tue 1/21 Day 57° Night 46° 25Wed 1/22 Day 59° Night 45° 25Thu 1/23 Day 61° Night 46° 25Fri 1/24 Day 61° Night 48° 25Sat 1/25 Day 61° Night 50° 25Sun 1/26 Day 57° Night 48° 25Mon 1/27 Day 61° Night 50° 25Tue 1/28 Day 63° Night 50° 25Wed 1/29 Day 61° Night 50° 25Thu 1/30 Day 63° Night 50° 25Fri 1/31 Day 63° Night 50° 25 Today 7 days 30 days\"}, {\"url\": \"https://world-weather.info/forecast/usa/san_francisco/january-2025/\", \"content\": \"Weather in San Francisco in January 2025 (California) - Detailed Weather Forecast for a Month Weather World Weather in San Francisco Weather in San Francisco in January 2025 San Francisco Weather Forecast for January 2025, is based on previous years\\' statistical data. +55°+46° +54°+45° +57°+48° +55°+48° +55°+48° +55°+46° +57°+50° +59°+50° +57°+50° +59°+50° +55°+48° +57°+48° +57°+48° +57°+50° +55°+46° +55°+48° +57°+48° +57°+48° +57°+48° +55°+48° +57°+48° +55°+48° +55°+48° +55°+46° +57°+48° +57°+48° +59°+48° +59°+48° +59°+48° +59°+48° +61°+50° Extended weather forecast in San Francisco HourlyWeek10-Day14-Day30-DayYear Weather in Washington, D.C.+30° Sacramento+45° Pleasanton+50° Redwood City+54° San Leandro+54° San Mateo+54° San Rafael+50° San Ramon+48° South San Francisco+55° Vallejo+50° Palo Alto+52° Pacifica+59° Berkeley+48° Castro Valley+54° Concord+48° Daly City+55° Leona Heights+54° Centennial+54° world\\'s temperature today day day Temperature units\"}, {\"url\": \"https://www.easeweather.com/north-america/united-states/california/city-and-county-of-san-francisco/san-francisco/january\", \"content\": \"January 2025 Weather - San Francisco Weather in San Francisco for January 2025 Your guide to San Francisco weather in January - trends and predictions In general, the average temperature in San Francisco at the beginning of January is 13\\xa0°F. San Francisco experiences heavy rainfall in January, with over 20 rainy days and an average total precipitation 110.4\\xa0mm. New Year\\'s Day weather in San Francisco 🎉 - See the complete forecast for Monday, January 1. San Francisco in January average weather Temperatures trend during January in San Francisco San Francisco in January - FAQ Explore the daily rainfall trends and prepare for San Franciscos January weather\\xa0💧 Get accurate weather forecasts for San Francisco, located at latitude 37.775 and longitude -122.419.\"}]', name='tavily_search_results_json', tool_call_id='call_4oXi4XX4FRmbRtDe0BevEfHh', artifact={'query': 'weather in San Francisco', 'follow_up_questions': None, 'answer': 'The current weather in San Francisco is 13.3°C (55.9°F) with clear skies. The wind speed is 20.9 kph coming from the north. The humidity is at 62%, and there is no precipitation. The visibility is at 16.0 km, and the UV index is 1.0.', 'images': [], 'results': [{'title': 'Weather in San Francisco', 'url': 'https://www.weatherapi.com/', 'content': \"{'location': {'name': 'San Francisco', 'region': 'California', 'country': 'United States of America', 'lat': 37.775, 'lon': -122.4183, 'tz_id': 'America/Los_Angeles', 'localtime_epoch': 1736261591, 'localtime': '2025-01-07 06:53'}, 'current': {'last_updated_epoch': 1736261100, 'last_updated': '2025-01-07 06:45', 'temp_c': 13.3, 'temp_f': 55.9, 'is_day': 0, 'condition': {'text': 'Clear', 'icon': '//cdn.weatherapi.com/weather/64x64/night/113.png', 'code': 1000}, 'wind_mph': 13.0, 'wind_kph': 20.9, 'wind_degree': 6, 'wind_dir': 'N', 'pressure_mb': 1024.0, 'pressure_in': 30.23, 'precip_mm': 0.0, 'precip_in': 0.0, 'humidity': 62, 'cloud': 0, 'feelslike_c': 11.5, 'feelslike_f': 52.6, 'windchill_c': 8.7, 'windchill_f': 47.7, 'heatindex_c': 10.9, 'heatindex_f': 51.6, 'dewpoint_c': 3.8, 'dewpoint_f': 38.9, 'vis_km': 16.0, 'vis_miles': 9.0, 'uv': 1.0, 'gust_mph': 22.3, 'gust_kph': 35.8}}\", 'score': 0.729396, 'raw_content': None}, {'title': 'San Francisco weather in January 2025 | Weather25.com', 'url': 'https://www.weather25.com/north-america/usa/california/san-francisco?page=month&month=January', 'content': 'San Francisco weather in January 2025 | Weather25.com San Francisco weather in January 2025 | San Francisco in January | Temperatures in San Francisco in January Weather in San Francisco in January - FAQ The average temperature in San Francisco in January is 7/15° C. On average, there are 4 rainy days in San Francisco during January. The weather in San Francisco in January is good. On average, there are 0 snowy days in San Francisco in January. More about the weather in San Francisco San Francisco 14 day weather Long range weather for San Francisco San Francisco weather in November San Francisco weather in December San Francisco Webcam Weather tomorrow Hotels in San Francisco', 'score': 0.70726365, 'raw_content': None}, {'title': 'January 2025 Weather in San Francisco, CA - weathershogun.com', 'url': 'https://weathershogun.com/weather/usa/ca/san-francisco/480/january', 'content': 'January 2025 Weather in San Francisco, CA San Francisco, CA Today Hourly 7 days 30 days January January 2025 Weather | San Francisco, California Today 1/3 Day 57° Night 45° 100Sat 1/4 Day 57° Night 45° 3Sun 1/5 Day 59° Night 46° 3Mon 1/6 Day 57° Night 50° 1Tue 1/7 Day 64° Night 50° 0Wed 1/8 Day 64° Night 48° 0Thu 1/9 Day 63° Night 50° 0Fri 1/10 Day 63° Night 48° 0Sat 1/11 Day 63° Night 50° 0Sun 1/12 Day 61° Night 46° 0Mon 1/13 Day 63° Night 48° 0Tue 1/14 Day 59° Night 48° 0Wed 1/15 Day 57° Night 46° 0Thu 1/16 Day 59° Night 46° 25Fri 1/17 Day 61° Night 50° 25Sat 1/18 Day 57° Night 50° 25Sun 1/19 Day 57° Night 48° 25Mon 1/20 Day 55° Night 45° 25Tue 1/21 Day 57° Night 46° 25Wed 1/22 Day 59° Night 45° 25Thu 1/23 Day 61° Night 46° 25Fri 1/24 Day 61° Night 48° 25Sat 1/25 Day 61° Night 50° 25Sun 1/26 Day 57° Night 48° 25Mon 1/27 Day 61° Night 50° 25Tue 1/28 Day 63° Night 50° 25Wed 1/29 Day 61° Night 50° 25Thu 1/30 Day 63° Night 50° 25Fri 1/31 Day 63° Night 50° 25 Today 7 days 30 days', 'score': 0.67037153, 'raw_content': None}, {'title': 'Weather in San Francisco in January 2025', 'url': 'https://world-weather.info/forecast/usa/san_francisco/january-2025/', 'content': \"Weather in San Francisco in January 2025 (California) - Detailed Weather Forecast for a Month Weather World Weather in San Francisco Weather in San Francisco in January 2025 San Francisco Weather Forecast for January 2025, is based on previous years' statistical data. +55°+46° +54°+45° +57°+48° +55°+48° +55°+48° +55°+46° +57°+50° +59°+50° +57°+50° +59°+50° +55°+48° +57°+48° +57°+48° +57°+50° +55°+46° +55°+48° +57°+48° +57°+48° +57°+48° +55°+48° +57°+48° +55°+48° +55°+48° +55°+46° +57°+48° +57°+48° +59°+48° +59°+48° +59°+48° +59°+48° +61°+50° Extended weather forecast in San Francisco HourlyWeek10-Day14-Day30-DayYear Weather in Washington, D.C.+30° Sacramento+45° Pleasanton+50° Redwood City+54° San Leandro+54° San Mateo+54° San Rafael+50° San Ramon+48° South San Francisco+55° Vallejo+50° Palo Alto+52° Pacifica+59° Berkeley+48° Castro Valley+54° Concord+48° Daly City+55° Leona Heights+54° Centennial+54° world's temperature today day day Temperature units\", 'score': 0.5393963, 'raw_content': None}, {'title': 'January 2025 Weather - San Francisco', 'url': 'https://www.easeweather.com/north-america/united-states/california/city-and-county-of-san-francisco/san-francisco/january', 'content': \"January 2025 Weather - San Francisco Weather in San Francisco for January 2025 Your guide to San Francisco weather in January - trends and predictions In general, the average temperature in San Francisco at the beginning of January is 13\\xa0°F. San Francisco experiences heavy rainfall in January, with over 20 rainy days and an average total precipitation 110.4\\xa0mm. New Year's Day weather in San Francisco 🎉 - See the complete forecast for Monday, January 1. San Francisco in January average weather Temperatures trend during January in San Francisco San Francisco in January - FAQ Explore the daily rainfall trends and prepare for San Franciscos January weather\\xa0💧 Get accurate weather forecasts for San Francisco, located at latitude 37.775 and longitude -122.419.\", 'score': 0.5383771, 'raw_content': None}], 'response_time': 3.41}), 'tool_call_id': 'call_4oXi4XX4FRmbRtDe0BevEfHh'}]}}\n",
      "\n",
      "\n",
      "{'call_llm': {'messages': [AIMessage(content='The current weather in San Francisco is 13.3°C (55.9°F) with clear skies. The wind speed is 20.9 kph coming from the north. The humidity is at 62%, and there is no precipitation. The visibility is at 16.0 km, and the UV index is 1.0.', additional_kwargs={'refusal': None}, response_metadata={'token_usage': {'completion_tokens': 72, 'prompt_tokens': 3834, 'total_tokens': 3906, 'completion_tokens_details': {'accepted_prediction_tokens': 0, 'audio_tokens': 0, 'reasoning_tokens': 0, 'rejected_prediction_tokens': 0}, 'prompt_tokens_details': {'audio_tokens': 0, 'cached_tokens': 0}}, 'model_name': 'gpt-3.5-turbo-0125', 'system_fingerprint': None, 'finish_reason': 'stop', 'logprobs': None}, id='run-35a4c927-4df4-4b28-b79a-f4a149bfc785-0', usage_metadata={'input_tokens': 3834, 'output_tokens': 72, 'total_tokens': 3906, 'input_token_details': {'audio': 0, 'cache_read': 0}, 'output_token_details': {'audio': 0, 'reasoning': 0}})]}}\n",
      "\n",
      "\n"
     ]
    }
   ],
   "source": [
    "print(\"Pending Executions!\")\n",
    "print(graph.get_state(thread).next)\n",
    "\n",
    "for event in graph.stream(\n",
    "    # provide value\n",
    "    Command(resume={\"action\": \"continue\"}),\n",
    "    thread,\n",
    "    stream_mode=\"updates\",\n",
    "):\n",
    "    print(event)\n",
    "    print(\"\\n\")"
   ]
  },
  {
   "cell_type": "markdown",
   "metadata": {},
   "source": [
    "# Et voilà! La fin"
   ]
  }
 ],
 "metadata": {
  "kernelspec": {
   "display_name": "Python 3",
   "language": "python",
   "name": "python3"
  },
  "language_info": {
   "codemirror_mode": {
    "name": "ipython",
    "version": 3
   },
   "file_extension": ".py",
   "mimetype": "text/x-python",
   "name": "python",
   "nbconvert_exporter": "python",
   "pygments_lexer": "ipython3",
   "version": "3.9.6"
  }
 },
 "nbformat": 4,
 "nbformat_minor": 2
}
